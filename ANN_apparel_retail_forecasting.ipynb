{
 "cells": [
  {
   "cell_type": "code",
   "execution_count": 1,
   "metadata": {},
   "outputs": [],
   "source": [
    "import pandas as pd"
   ]
  },
  {
   "cell_type": "code",
   "execution_count": 2,
   "metadata": {},
   "outputs": [],
   "source": [
    "import pandas"
   ]
  },
  {
   "cell_type": "code",
   "execution_count": 3,
   "metadata": {},
   "outputs": [],
   "source": [
    "import pandas as pd"
   ]
  },
  {
   "cell_type": "code",
   "execution_count": 5,
   "metadata": {},
   "outputs": [],
   "source": [
    "import sklearn"
   ]
  },
  {
   "cell_type": "code",
   "execution_count": 6,
   "metadata": {},
   "outputs": [
    {
     "ename": "ModuleNotFoundError",
     "evalue": "No module named 'tensorflow'",
     "output_type": "error",
     "traceback": [
      "\u001b[1;31m---------------------------------------------------------------------------\u001b[0m",
      "\u001b[1;31mModuleNotFoundError\u001b[0m                       Traceback (most recent call last)",
      "\u001b[1;32m<ipython-input-6-64156d691fe5>\u001b[0m in \u001b[0;36m<module>\u001b[1;34m\u001b[0m\n\u001b[1;32m----> 1\u001b[1;33m \u001b[1;32mimport\u001b[0m \u001b[0mtensorflow\u001b[0m \u001b[1;32mas\u001b[0m \u001b[0mtf\u001b[0m\u001b[1;33m\u001b[0m\u001b[1;33m\u001b[0m\u001b[0m\n\u001b[0m",
      "\u001b[1;31mModuleNotFoundError\u001b[0m: No module named 'tensorflow'"
     ]
    }
   ],
   "source": [
    "import tensorflow as tf"
   ]
  },
  {
   "cell_type": "code",
   "execution_count": 12,
   "metadata": {},
   "outputs": [],
   "source": [
    "import matplotlib as plt"
   ]
  },
  {
   "cell_type": "code",
   "execution_count": 11,
   "metadata": {},
   "outputs": [],
   "source": [
    "df = pd.read_csv('retail_data_5.csv',sep=';',encoding='utf8')"
   ]
  },
  {
   "cell_type": "code",
   "execution_count": 12,
   "metadata": {},
   "outputs": [],
   "source": [
    "dataset=df.values"
   ]
  },
  {
   "cell_type": "code",
   "execution_count": 10,
   "metadata": {},
   "outputs": [
    {
     "data": {
      "text/html": [
       "<div>\n",
       "<style scoped>\n",
       "    .dataframe tbody tr th:only-of-type {\n",
       "        vertical-align: middle;\n",
       "    }\n",
       "\n",
       "    .dataframe tbody tr th {\n",
       "        vertical-align: top;\n",
       "    }\n",
       "\n",
       "    .dataframe thead th {\n",
       "        text-align: right;\n",
       "    }\n",
       "</style>\n",
       "<table border=\"1\" class=\"dataframe\">\n",
       "  <thead>\n",
       "    <tr style=\"text-align: right;\">\n",
       "      <th></th>\n",
       "      <th>Ortalama_SICAKLIK</th>\n",
       "      <th>Toplam_CIROILKFIYAT</th>\n",
       "      <th>Toplam_CIRO</th>\n",
       "      <th>Toplam_Musteri_Sat</th>\n",
       "      <th>Indirim_Yuzdesi</th>\n",
       "      <th>Istinyepark</th>\n",
       "      <th>Akasya</th>\n",
       "      <th>Akbati</th>\n",
       "      <th>Beylikduzu</th>\n",
       "      <th>Brandium</th>\n",
       "      <th>...</th>\n",
       "      <th>Metrocity</th>\n",
       "      <th>Natilus</th>\n",
       "      <th>Starcity</th>\n",
       "      <th>YKM_FORUM_ISTANBUL</th>\n",
       "      <th>YKM_FORUM_MARMARA</th>\n",
       "      <th>Ozel_Gunler</th>\n",
       "      <th>Satis_Normalize</th>\n",
       "      <th>Unnamed: 23</th>\n",
       "      <th>Unnamed: 24</th>\n",
       "      <th>Unnamed: 25</th>\n",
       "    </tr>\n",
       "  </thead>\n",
       "  <tbody>\n",
       "    <tr>\n",
       "      <th>0</th>\n",
       "      <td>8.0</td>\n",
       "      <td>17064.0</td>\n",
       "      <td>14298.0</td>\n",
       "      <td>70795.0</td>\n",
       "      <td>16.0</td>\n",
       "      <td>1.0</td>\n",
       "      <td>0.0</td>\n",
       "      <td>0.0</td>\n",
       "      <td>0.0</td>\n",
       "      <td>0.0</td>\n",
       "      <td>...</td>\n",
       "      <td>0.0</td>\n",
       "      <td>0.0</td>\n",
       "      <td>0.0</td>\n",
       "      <td>0.0</td>\n",
       "      <td>0.0</td>\n",
       "      <td>1.0</td>\n",
       "      <td>0.0</td>\n",
       "      <td>NaN</td>\n",
       "      <td>NaN</td>\n",
       "      <td>NaN</td>\n",
       "    </tr>\n",
       "    <tr>\n",
       "      <th>1</th>\n",
       "      <td>8.0</td>\n",
       "      <td>15907.0</td>\n",
       "      <td>11861.0</td>\n",
       "      <td>33988.0</td>\n",
       "      <td>25.0</td>\n",
       "      <td>1.0</td>\n",
       "      <td>0.0</td>\n",
       "      <td>0.0</td>\n",
       "      <td>0.0</td>\n",
       "      <td>0.0</td>\n",
       "      <td>...</td>\n",
       "      <td>0.0</td>\n",
       "      <td>0.0</td>\n",
       "      <td>0.0</td>\n",
       "      <td>0.0</td>\n",
       "      <td>0.0</td>\n",
       "      <td>0.0</td>\n",
       "      <td>0.0</td>\n",
       "      <td>NaN</td>\n",
       "      <td>NaN</td>\n",
       "      <td>NaN</td>\n",
       "    </tr>\n",
       "    <tr>\n",
       "      <th>2</th>\n",
       "      <td>12.0</td>\n",
       "      <td>19947.0</td>\n",
       "      <td>15896.0</td>\n",
       "      <td>52796.0</td>\n",
       "      <td>20.0</td>\n",
       "      <td>1.0</td>\n",
       "      <td>0.0</td>\n",
       "      <td>0.0</td>\n",
       "      <td>0.0</td>\n",
       "      <td>0.0</td>\n",
       "      <td>...</td>\n",
       "      <td>0.0</td>\n",
       "      <td>0.0</td>\n",
       "      <td>0.0</td>\n",
       "      <td>0.0</td>\n",
       "      <td>0.0</td>\n",
       "      <td>0.0</td>\n",
       "      <td>0.0</td>\n",
       "      <td>NaN</td>\n",
       "      <td>NaN</td>\n",
       "      <td>NaN</td>\n",
       "    </tr>\n",
       "    <tr>\n",
       "      <th>3</th>\n",
       "      <td>12.0</td>\n",
       "      <td>21254.0</td>\n",
       "      <td>16891.0</td>\n",
       "      <td>57846.0</td>\n",
       "      <td>21.0</td>\n",
       "      <td>1.0</td>\n",
       "      <td>0.0</td>\n",
       "      <td>0.0</td>\n",
       "      <td>0.0</td>\n",
       "      <td>0.0</td>\n",
       "      <td>...</td>\n",
       "      <td>0.0</td>\n",
       "      <td>0.0</td>\n",
       "      <td>0.0</td>\n",
       "      <td>0.0</td>\n",
       "      <td>0.0</td>\n",
       "      <td>0.0</td>\n",
       "      <td>0.0</td>\n",
       "      <td>NaN</td>\n",
       "      <td>NaN</td>\n",
       "      <td>NaN</td>\n",
       "    </tr>\n",
       "    <tr>\n",
       "      <th>4</th>\n",
       "      <td>4.0</td>\n",
       "      <td>30062.0</td>\n",
       "      <td>21452.0</td>\n",
       "      <td>66466.0</td>\n",
       "      <td>29.0</td>\n",
       "      <td>1.0</td>\n",
       "      <td>0.0</td>\n",
       "      <td>0.0</td>\n",
       "      <td>0.0</td>\n",
       "      <td>0.0</td>\n",
       "      <td>...</td>\n",
       "      <td>0.0</td>\n",
       "      <td>0.0</td>\n",
       "      <td>0.0</td>\n",
       "      <td>0.0</td>\n",
       "      <td>0.0</td>\n",
       "      <td>1.0</td>\n",
       "      <td>0.0</td>\n",
       "      <td>NaN</td>\n",
       "      <td>NaN</td>\n",
       "      <td>NaN</td>\n",
       "    </tr>\n",
       "    <tr>\n",
       "      <th>...</th>\n",
       "      <td>...</td>\n",
       "      <td>...</td>\n",
       "      <td>...</td>\n",
       "      <td>...</td>\n",
       "      <td>...</td>\n",
       "      <td>...</td>\n",
       "      <td>...</td>\n",
       "      <td>...</td>\n",
       "      <td>...</td>\n",
       "      <td>...</td>\n",
       "      <td>...</td>\n",
       "      <td>...</td>\n",
       "      <td>...</td>\n",
       "      <td>...</td>\n",
       "      <td>...</td>\n",
       "      <td>...</td>\n",
       "      <td>...</td>\n",
       "      <td>...</td>\n",
       "      <td>...</td>\n",
       "      <td>...</td>\n",
       "      <td>...</td>\n",
       "    </tr>\n",
       "    <tr>\n",
       "      <th>1355</th>\n",
       "      <td>NaN</td>\n",
       "      <td>NaN</td>\n",
       "      <td>NaN</td>\n",
       "      <td>NaN</td>\n",
       "      <td>NaN</td>\n",
       "      <td>NaN</td>\n",
       "      <td>NaN</td>\n",
       "      <td>NaN</td>\n",
       "      <td>NaN</td>\n",
       "      <td>NaN</td>\n",
       "      <td>...</td>\n",
       "      <td>NaN</td>\n",
       "      <td>NaN</td>\n",
       "      <td>NaN</td>\n",
       "      <td>NaN</td>\n",
       "      <td>NaN</td>\n",
       "      <td>NaN</td>\n",
       "      <td>NaN</td>\n",
       "      <td>NaN</td>\n",
       "      <td>NaN</td>\n",
       "      <td>NaN</td>\n",
       "    </tr>\n",
       "    <tr>\n",
       "      <th>1356</th>\n",
       "      <td>NaN</td>\n",
       "      <td>NaN</td>\n",
       "      <td>NaN</td>\n",
       "      <td>NaN</td>\n",
       "      <td>NaN</td>\n",
       "      <td>NaN</td>\n",
       "      <td>NaN</td>\n",
       "      <td>NaN</td>\n",
       "      <td>NaN</td>\n",
       "      <td>NaN</td>\n",
       "      <td>...</td>\n",
       "      <td>NaN</td>\n",
       "      <td>NaN</td>\n",
       "      <td>NaN</td>\n",
       "      <td>NaN</td>\n",
       "      <td>NaN</td>\n",
       "      <td>NaN</td>\n",
       "      <td>NaN</td>\n",
       "      <td>NaN</td>\n",
       "      <td>NaN</td>\n",
       "      <td>NaN</td>\n",
       "    </tr>\n",
       "    <tr>\n",
       "      <th>1357</th>\n",
       "      <td>NaN</td>\n",
       "      <td>NaN</td>\n",
       "      <td>NaN</td>\n",
       "      <td>NaN</td>\n",
       "      <td>NaN</td>\n",
       "      <td>NaN</td>\n",
       "      <td>NaN</td>\n",
       "      <td>NaN</td>\n",
       "      <td>NaN</td>\n",
       "      <td>NaN</td>\n",
       "      <td>...</td>\n",
       "      <td>NaN</td>\n",
       "      <td>NaN</td>\n",
       "      <td>NaN</td>\n",
       "      <td>NaN</td>\n",
       "      <td>NaN</td>\n",
       "      <td>NaN</td>\n",
       "      <td>NaN</td>\n",
       "      <td>NaN</td>\n",
       "      <td>NaN</td>\n",
       "      <td>NaN</td>\n",
       "    </tr>\n",
       "    <tr>\n",
       "      <th>1358</th>\n",
       "      <td>NaN</td>\n",
       "      <td>NaN</td>\n",
       "      <td>NaN</td>\n",
       "      <td>NaN</td>\n",
       "      <td>NaN</td>\n",
       "      <td>NaN</td>\n",
       "      <td>NaN</td>\n",
       "      <td>NaN</td>\n",
       "      <td>NaN</td>\n",
       "      <td>NaN</td>\n",
       "      <td>...</td>\n",
       "      <td>NaN</td>\n",
       "      <td>NaN</td>\n",
       "      <td>NaN</td>\n",
       "      <td>NaN</td>\n",
       "      <td>NaN</td>\n",
       "      <td>NaN</td>\n",
       "      <td>NaN</td>\n",
       "      <td>NaN</td>\n",
       "      <td>NaN</td>\n",
       "      <td>NaN</td>\n",
       "    </tr>\n",
       "    <tr>\n",
       "      <th>1359</th>\n",
       "      <td>NaN</td>\n",
       "      <td>NaN</td>\n",
       "      <td>NaN</td>\n",
       "      <td>NaN</td>\n",
       "      <td>NaN</td>\n",
       "      <td>NaN</td>\n",
       "      <td>NaN</td>\n",
       "      <td>NaN</td>\n",
       "      <td>NaN</td>\n",
       "      <td>NaN</td>\n",
       "      <td>...</td>\n",
       "      <td>NaN</td>\n",
       "      <td>NaN</td>\n",
       "      <td>NaN</td>\n",
       "      <td>NaN</td>\n",
       "      <td>NaN</td>\n",
       "      <td>NaN</td>\n",
       "      <td>NaN</td>\n",
       "      <td>NaN</td>\n",
       "      <td>NaN</td>\n",
       "      <td>NaN</td>\n",
       "    </tr>\n",
       "  </tbody>\n",
       "</table>\n",
       "<p>1360 rows × 26 columns</p>\n",
       "</div>"
      ],
      "text/plain": [
       "      Ortalama_SICAKLIK  Toplam_CIROILKFIYAT  Toplam_CIRO  Toplam_Musteri_Sat  \\\n",
       "0                   8.0              17064.0      14298.0             70795.0   \n",
       "1                   8.0              15907.0      11861.0             33988.0   \n",
       "2                  12.0              19947.0      15896.0             52796.0   \n",
       "3                  12.0              21254.0      16891.0             57846.0   \n",
       "4                   4.0              30062.0      21452.0             66466.0   \n",
       "...                 ...                  ...          ...                 ...   \n",
       "1355                NaN                  NaN          NaN                 NaN   \n",
       "1356                NaN                  NaN          NaN                 NaN   \n",
       "1357                NaN                  NaN          NaN                 NaN   \n",
       "1358                NaN                  NaN          NaN                 NaN   \n",
       "1359                NaN                  NaN          NaN                 NaN   \n",
       "\n",
       "      Indirim_Yuzdesi  Istinyepark  Akasya  Akbati  Beylikduzu  Brandium  ...  \\\n",
       "0                16.0          1.0     0.0     0.0         0.0       0.0  ...   \n",
       "1                25.0          1.0     0.0     0.0         0.0       0.0  ...   \n",
       "2                20.0          1.0     0.0     0.0         0.0       0.0  ...   \n",
       "3                21.0          1.0     0.0     0.0         0.0       0.0  ...   \n",
       "4                29.0          1.0     0.0     0.0         0.0       0.0  ...   \n",
       "...               ...          ...     ...     ...         ...       ...  ...   \n",
       "1355              NaN          NaN     NaN     NaN         NaN       NaN  ...   \n",
       "1356              NaN          NaN     NaN     NaN         NaN       NaN  ...   \n",
       "1357              NaN          NaN     NaN     NaN         NaN       NaN  ...   \n",
       "1358              NaN          NaN     NaN     NaN         NaN       NaN  ...   \n",
       "1359              NaN          NaN     NaN     NaN         NaN       NaN  ...   \n",
       "\n",
       "      Metrocity  Natilus  Starcity  YKM_FORUM_ISTANBUL  YKM_FORUM_MARMARA  \\\n",
       "0           0.0      0.0       0.0                 0.0                0.0   \n",
       "1           0.0      0.0       0.0                 0.0                0.0   \n",
       "2           0.0      0.0       0.0                 0.0                0.0   \n",
       "3           0.0      0.0       0.0                 0.0                0.0   \n",
       "4           0.0      0.0       0.0                 0.0                0.0   \n",
       "...         ...      ...       ...                 ...                ...   \n",
       "1355        NaN      NaN       NaN                 NaN                NaN   \n",
       "1356        NaN      NaN       NaN                 NaN                NaN   \n",
       "1357        NaN      NaN       NaN                 NaN                NaN   \n",
       "1358        NaN      NaN       NaN                 NaN                NaN   \n",
       "1359        NaN      NaN       NaN                 NaN                NaN   \n",
       "\n",
       "      Ozel_Gunler  Satis_Normalize  Unnamed: 23  Unnamed: 24  Unnamed: 25  \n",
       "0             1.0              0.0          NaN          NaN          NaN  \n",
       "1             0.0              0.0          NaN          NaN          NaN  \n",
       "2             0.0              0.0          NaN          NaN          NaN  \n",
       "3             0.0              0.0          NaN          NaN          NaN  \n",
       "4             1.0              0.0          NaN          NaN          NaN  \n",
       "...           ...              ...          ...          ...          ...  \n",
       "1355          NaN              NaN          NaN          NaN          NaN  \n",
       "1356          NaN              NaN          NaN          NaN          NaN  \n",
       "1357          NaN              NaN          NaN          NaN          NaN  \n",
       "1358          NaN              NaN          NaN          NaN          NaN  \n",
       "1359          NaN              NaN          NaN          NaN          NaN  \n",
       "\n",
       "[1360 rows x 26 columns]"
      ]
     },
     "execution_count": 10,
     "metadata": {},
     "output_type": "execute_result"
    }
   ],
   "source": [
    "df"
   ]
  },
  {
   "cell_type": "code",
   "execution_count": 11,
   "metadata": {},
   "outputs": [
    {
     "data": {
      "text/plain": [
       "array([[8.0000e+00, 1.7064e+04, 1.4298e+04, ...,        nan,        nan,\n",
       "               nan],\n",
       "       [8.0000e+00, 1.5907e+04, 1.1861e+04, ...,        nan,        nan,\n",
       "               nan],\n",
       "       [1.2000e+01, 1.9947e+04, 1.5896e+04, ...,        nan,        nan,\n",
       "               nan],\n",
       "       ...,\n",
       "       [       nan,        nan,        nan, ...,        nan,        nan,\n",
       "               nan],\n",
       "       [       nan,        nan,        nan, ...,        nan,        nan,\n",
       "               nan],\n",
       "       [       nan,        nan,        nan, ...,        nan,        nan,\n",
       "               nan]])"
      ]
     },
     "execution_count": 11,
     "metadata": {},
     "output_type": "execute_result"
    }
   ],
   "source": [
    "dataset"
   ]
  },
  {
   "cell_type": "code",
   "execution_count": 13,
   "metadata": {},
   "outputs": [],
   "source": [
    "from pandas import DataFrame\n"
   ]
  },
  {
   "cell_type": "code",
   "execution_count": 14,
   "metadata": {},
   "outputs": [],
   "source": [
    "X=dataset[:1287,0:22]"
   ]
  },
  {
   "cell_type": "code",
   "execution_count": 15,
   "metadata": {},
   "outputs": [],
   "source": [
    "y=dataset[:1287,22]"
   ]
  },
  {
   "cell_type": "code",
   "execution_count": 16,
   "metadata": {},
   "outputs": [],
   "source": [
    "from sklearn import preprocessing"
   ]
  },
  {
   "cell_type": "code",
   "execution_count": 17,
   "metadata": {},
   "outputs": [],
   "source": [
    "min_max_scaler = preprocessing.MinMaxScaler()"
   ]
  },
  {
   "cell_type": "code",
   "execution_count": 18,
   "metadata": {},
   "outputs": [],
   "source": [
    "X_scale = min_max_scaler.fit_transform(X)"
   ]
  },
  {
   "cell_type": "code",
   "execution_count": 19,
   "metadata": {},
   "outputs": [
    {
     "data": {
      "text/plain": [
       "array([[0.25925926, 0.13394616, 0.20831425, ..., 0.        , 0.        ,\n",
       "        1.        ],\n",
       "       [0.25925926, 0.12468171, 0.17231242, ..., 0.        , 0.        ,\n",
       "        0.        ],\n",
       "       [0.40740741, 0.15703121, 0.23192153, ..., 0.        , 0.        ,\n",
       "        0.        ],\n",
       "       ...,\n",
       "       [0.66666667, 0.05971846, 0.1111226 , ..., 0.        , 1.        ,\n",
       "        0.        ],\n",
       "       [0.66666667, 0.0334465 , 0.06417397, ..., 0.        , 1.        ,\n",
       "        0.        ],\n",
       "       [0.59259259, 0.02832183, 0.05365558, ..., 0.        , 1.        ,\n",
       "        0.        ]])"
      ]
     },
     "execution_count": 19,
     "metadata": {},
     "output_type": "execute_result"
    }
   ],
   "source": [
    "X_scale"
   ]
  },
  {
   "cell_type": "code",
   "execution_count": 19,
   "metadata": {},
   "outputs": [],
   "source": [
    "import numpy as np"
   ]
  },
  {
   "cell_type": "code",
   "execution_count": 20,
   "metadata": {},
   "outputs": [
    {
     "data": {
      "text/plain": [
       "(1287,)"
      ]
     },
     "execution_count": 20,
     "metadata": {},
     "output_type": "execute_result"
    }
   ],
   "source": [
    "y.shape"
   ]
  },
  {
   "cell_type": "code",
   "execution_count": 24,
   "metadata": {},
   "outputs": [],
   "source": [
    "from sklearn.model_selection import train_test_split"
   ]
  },
  {
   "cell_type": "code",
   "execution_count": 25,
   "metadata": {},
   "outputs": [],
   "source": [
    "X_train, X_val_and_test, y_train, y_val_and_test = train_test_split(X_scale, y, test_size=0.3)"
   ]
  },
  {
   "cell_type": "code",
   "execution_count": 27,
   "metadata": {},
   "outputs": [],
   "source": [
    "X_val, X_test, y_val, y_test = train_test_split(X_val_and_test, y_val_and_test, test_size=0.5)"
   ]
  },
  {
   "cell_type": "code",
   "execution_count": 28,
   "metadata": {},
   "outputs": [
    {
     "name": "stdout",
     "output_type": "stream",
     "text": [
      "(900, 22) (193, 22) (194, 22) (900,) (193,) (194,)\n"
     ]
    }
   ],
   "source": [
    "print(X_train.shape, X_val.shape, X_test.shape, y_train.shape, y_val.shape, y_test.shape)"
   ]
  },
  {
   "cell_type": "code",
   "execution_count": 29,
   "metadata": {},
   "outputs": [
    {
     "name": "stderr",
     "output_type": "stream",
     "text": [
      "Using TensorFlow backend.\n"
     ]
    }
   ],
   "source": [
    "import keras"
   ]
  },
  {
   "cell_type": "code",
   "execution_count": 33,
   "metadata": {},
   "outputs": [],
   "source": [
    "import keras"
   ]
  },
  {
   "cell_type": "markdown",
   "metadata": {},
   "source": [
    "Define the layers of the ANN"
   ]
  },
  {
   "cell_type": "code",
   "execution_count": 34,
   "metadata": {},
   "outputs": [],
   "source": [
    "from keras.models import Sequential"
   ]
  },
  {
   "cell_type": "code",
   "execution_count": 35,
   "metadata": {},
   "outputs": [],
   "source": [
    "from keras.layers import Dense"
   ]
  },
  {
   "cell_type": "code",
   "execution_count": 36,
   "metadata": {},
   "outputs": [],
   "source": [
    "model = Sequential([    Dense(132, activation='sigmoid', input_shape=(22,)),    Dense(132, activation='sigmoid'),    Dense(1, activation='sigmoid'),])"
   ]
  },
  {
   "cell_type": "markdown",
   "metadata": {},
   "source": [
    "Burada ANN'nin level'larını aşamalı olarak tanımlıyoruz. \n",
    "Here, we sequentilally define our ANN model. The first layer has 32 neurons and RElu activation function, and 10 inputs (input neurons) since we have 10 input features. This is a dense layer that means all neurons all fully connected to the ohter layer. The second layer is also dense and has 32 neurons with Relu activation fucntion. Finally the output layer has 1 neuron having a sigmoid activation function. "
   ]
  },
  {
   "cell_type": "code",
   "execution_count": 37,
   "metadata": {},
   "outputs": [],
   "source": [
    "model.compile(optimizer='sgd',   loss='binary_crossentropy'  , metrics=['accuracy'])"
   ]
  },
  {
   "cell_type": "markdown",
   "metadata": {},
   "source": [
    "Here we define the optimization algortihm (that is sgd) and the loss function that is binary crossentropy, and the metric to track taht is accuracy.. Then we start trainig the algorithm."
   ]
  },
  {
   "cell_type": "code",
   "execution_count": 38,
   "metadata": {},
   "outputs": [
    {
     "name": "stdout",
     "output_type": "stream",
     "text": [
      "Train on 900 samples, validate on 193 samples\n",
      "Epoch 1/100\n",
      "900/900 [==============================] - 1s 1ms/step - loss: 0.4416 - accuracy: 0.9989 - val_loss: 0.2777 - val_accuracy: 1.0000\n",
      "Epoch 2/100\n",
      "900/900 [==============================] - 0s 51us/step - loss: 0.2253 - accuracy: 0.9989 - val_loss: 0.1680 - val_accuracy: 1.0000\n",
      "Epoch 3/100\n",
      "900/900 [==============================] - 0s 48us/step - loss: 0.1466 - accuracy: 0.9989 - val_loss: 0.1181 - val_accuracy: 1.0000\n",
      "Epoch 4/100\n",
      "900/900 [==============================] - 0s 47us/step - loss: 0.1079 - accuracy: 0.9989 - val_loss: 0.0904 - val_accuracy: 1.0000\n",
      "Epoch 5/100\n",
      "900/900 [==============================] - 0s 54us/step - loss: 0.0853 - accuracy: 0.9989 - val_loss: 0.0730 - val_accuracy: 1.0000\n",
      "Epoch 6/100\n",
      "900/900 [==============================] - 0s 54us/step - loss: 0.0707 - accuracy: 0.9989 - val_loss: 0.0611 - val_accuracy: 1.0000\n",
      "Epoch 7/100\n",
      "900/900 [==============================] - 0s 50us/step - loss: 0.0605 - accuracy: 0.9989 - val_loss: 0.0525 - val_accuracy: 1.0000\n",
      "Epoch 8/100\n",
      "900/900 [==============================] - 0s 56us/step - loss: 0.0530 - accuracy: 0.9989 - val_loss: 0.0460 - val_accuracy: 1.0000\n",
      "Epoch 9/100\n",
      "900/900 [==============================] - 0s 51us/step - loss: 0.0472 - accuracy: 0.9989 - val_loss: 0.0409 - val_accuracy: 1.0000\n",
      "Epoch 10/100\n",
      "900/900 [==============================] - 0s 52us/step - loss: 0.0427 - accuracy: 0.9989 - val_loss: 0.0368 - val_accuracy: 1.0000\n",
      "Epoch 11/100\n",
      "900/900 [==============================] - 0s 48us/step - loss: 0.0391 - accuracy: 0.9989 - val_loss: 0.0335 - val_accuracy: 1.0000\n",
      "Epoch 12/100\n",
      "900/900 [==============================] - 0s 54us/step - loss: 0.0361 - accuracy: 0.9989 - val_loss: 0.0307 - val_accuracy: 1.0000\n",
      "Epoch 13/100\n",
      "900/900 [==============================] - 0s 48us/step - loss: 0.0335 - accuracy: 0.9989 - val_loss: 0.0283 - val_accuracy: 1.0000\n",
      "Epoch 14/100\n",
      "900/900 [==============================] - 0s 50us/step - loss: 0.0314 - accuracy: 0.9989 - val_loss: 0.0263 - val_accuracy: 1.0000\n",
      "Epoch 15/100\n",
      "900/900 [==============================] - 0s 48us/step - loss: 0.0296 - accuracy: 0.9989 - val_loss: 0.0245 - val_accuracy: 1.0000\n",
      "Epoch 16/100\n",
      "900/900 [==============================] - 0s 58us/step - loss: 0.0280 - accuracy: 0.9989 - val_loss: 0.0230 - val_accuracy: 1.0000\n",
      "Epoch 17/100\n",
      "900/900 [==============================] - 0s 49us/step - loss: 0.0266 - accuracy: 0.9989 - val_loss: 0.0217 - val_accuracy: 1.0000\n",
      "Epoch 18/100\n",
      "900/900 [==============================] - 0s 54us/step - loss: 0.0254 - accuracy: 0.9989 - val_loss: 0.0205 - val_accuracy: 1.0000\n",
      "Epoch 19/100\n",
      "900/900 [==============================] - 0s 44us/step - loss: 0.0243 - accuracy: 0.9989 - val_loss: 0.0194 - val_accuracy: 1.0000\n",
      "Epoch 20/100\n",
      "900/900 [==============================] - 0s 48us/step - loss: 0.0234 - accuracy: 0.9989 - val_loss: 0.0184 - val_accuracy: 1.0000\n",
      "Epoch 21/100\n",
      "900/900 [==============================] - 0s 57us/step - loss: 0.0225 - accuracy: 0.9989 - val_loss: 0.0175 - val_accuracy: 1.0000\n",
      "Epoch 22/100\n",
      "900/900 [==============================] - 0s 53us/step - loss: 0.0217 - accuracy: 0.9989 - val_loss: 0.0167 - val_accuracy: 1.0000\n",
      "Epoch 23/100\n",
      "900/900 [==============================] - 0s 48us/step - loss: 0.0210 - accuracy: 0.9989 - val_loss: 0.0160 - val_accuracy: 1.0000\n",
      "Epoch 24/100\n",
      "900/900 [==============================] - 0s 51us/step - loss: 0.0204 - accuracy: 0.9989 - val_loss: 0.0154 - val_accuracy: 1.0000\n",
      "Epoch 25/100\n",
      "900/900 [==============================] - 0s 47us/step - loss: 0.0198 - accuracy: 0.9989 - val_loss: 0.0148 - val_accuracy: 1.0000\n",
      "Epoch 26/100\n",
      "900/900 [==============================] - 0s 53us/step - loss: 0.0192 - accuracy: 0.9989 - val_loss: 0.0142 - val_accuracy: 1.0000\n",
      "Epoch 27/100\n",
      "900/900 [==============================] - 0s 52us/step - loss: 0.0187 - accuracy: 0.9989 - val_loss: 0.0137 - val_accuracy: 1.0000\n",
      "Epoch 28/100\n",
      "900/900 [==============================] - 0s 46us/step - loss: 0.0183 - accuracy: 0.9989 - val_loss: 0.0132 - val_accuracy: 1.0000\n",
      "Epoch 29/100\n",
      "900/900 [==============================] - 0s 52us/step - loss: 0.0178 - accuracy: 0.9989 - val_loss: 0.0128 - val_accuracy: 1.0000\n",
      "Epoch 30/100\n",
      "900/900 [==============================] - 0s 56us/step - loss: 0.0175 - accuracy: 0.9989 - val_loss: 0.0124 - val_accuracy: 1.0000\n",
      "Epoch 31/100\n",
      "900/900 [==============================] - 0s 45us/step - loss: 0.0171 - accuracy: 0.9989 - val_loss: 0.0120 - val_accuracy: 1.0000\n",
      "Epoch 32/100\n",
      "900/900 [==============================] - 0s 53us/step - loss: 0.0167 - accuracy: 0.9989 - val_loss: 0.0116 - val_accuracy: 1.0000\n",
      "Epoch 33/100\n",
      "900/900 [==============================] - 0s 52us/step - loss: 0.0164 - accuracy: 0.9989 - val_loss: 0.0113 - val_accuracy: 1.0000\n",
      "Epoch 34/100\n",
      "900/900 [==============================] - 0s 54us/step - loss: 0.0161 - accuracy: 0.9989 - val_loss: 0.0110 - val_accuracy: 1.0000\n",
      "Epoch 35/100\n",
      "900/900 [==============================] - 0s 46us/step - loss: 0.0158 - accuracy: 0.9989 - val_loss: 0.0106 - val_accuracy: 1.0000\n",
      "Epoch 36/100\n",
      "900/900 [==============================] - 0s 62us/step - loss: 0.0156 - accuracy: 0.9989 - val_loss: 0.0104 - val_accuracy: 1.0000\n",
      "Epoch 37/100\n",
      "900/900 [==============================] - 0s 55us/step - loss: 0.0153 - accuracy: 0.9989 - val_loss: 0.0101 - val_accuracy: 1.0000\n",
      "Epoch 38/100\n",
      "900/900 [==============================] - 0s 51us/step - loss: 0.0151 - accuracy: 0.9989 - val_loss: 0.0098 - val_accuracy: 1.0000\n",
      "Epoch 39/100\n",
      "900/900 [==============================] - 0s 45us/step - loss: 0.0149 - accuracy: 0.9989 - val_loss: 0.0096 - val_accuracy: 1.0000\n",
      "Epoch 40/100\n",
      "900/900 [==============================] - 0s 57us/step - loss: 0.0147 - accuracy: 0.9989 - val_loss: 0.0093 - val_accuracy: 1.0000\n",
      "Epoch 41/100\n",
      "900/900 [==============================] - 0s 52us/step - loss: 0.0145 - accuracy: 0.9989 - val_loss: 0.0091 - val_accuracy: 1.0000\n",
      "Epoch 42/100\n",
      "900/900 [==============================] - 0s 53us/step - loss: 0.0143 - accuracy: 0.9989 - val_loss: 0.0089 - val_accuracy: 1.0000\n",
      "Epoch 43/100\n",
      "900/900 [==============================] - 0s 48us/step - loss: 0.0141 - accuracy: 0.9989 - val_loss: 0.0087 - val_accuracy: 1.0000\n",
      "Epoch 44/100\n",
      "900/900 [==============================] - 0s 48us/step - loss: 0.0139 - accuracy: 0.9989 - val_loss: 0.0085 - val_accuracy: 1.0000\n",
      "Epoch 45/100\n",
      "900/900 [==============================] - 0s 48us/step - loss: 0.0138 - accuracy: 0.9989 - val_loss: 0.0083 - val_accuracy: 1.0000\n",
      "Epoch 46/100\n",
      "900/900 [==============================] - 0s 50us/step - loss: 0.0136 - accuracy: 0.9989 - val_loss: 0.0082 - val_accuracy: 1.0000\n",
      "Epoch 47/100\n",
      "900/900 [==============================] - 0s 52us/step - loss: 0.0135 - accuracy: 0.9989 - val_loss: 0.0080 - val_accuracy: 1.0000\n",
      "Epoch 48/100\n",
      "900/900 [==============================] - 0s 51us/step - loss: 0.0133 - accuracy: 0.9989 - val_loss: 0.0078 - val_accuracy: 1.0000\n",
      "Epoch 49/100\n",
      "900/900 [==============================] - 0s 47us/step - loss: 0.0132 - accuracy: 0.9989 - val_loss: 0.0077 - val_accuracy: 1.0000\n",
      "Epoch 50/100\n",
      "900/900 [==============================] - 0s 52us/step - loss: 0.0130 - accuracy: 0.9989 - val_loss: 0.0075 - val_accuracy: 1.0000\n",
      "Epoch 51/100\n",
      "900/900 [==============================] - 0s 55us/step - loss: 0.0129 - accuracy: 0.9989 - val_loss: 0.0074 - val_accuracy: 1.0000\n",
      "Epoch 52/100\n",
      "900/900 [==============================] - 0s 53us/step - loss: 0.0128 - accuracy: 0.9989 - val_loss: 0.0073 - val_accuracy: 1.0000\n",
      "Epoch 53/100\n",
      "900/900 [==============================] - 0s 44us/step - loss: 0.0127 - accuracy: 0.9989 - val_loss: 0.0071 - val_accuracy: 1.0000\n",
      "Epoch 54/100\n",
      "900/900 [==============================] - 0s 53us/step - loss: 0.0126 - accuracy: 0.9989 - val_loss: 0.0070 - val_accuracy: 1.0000\n",
      "Epoch 55/100\n",
      "900/900 [==============================] - 0s 56us/step - loss: 0.0125 - accuracy: 0.9989 - val_loss: 0.0069 - val_accuracy: 1.0000\n",
      "Epoch 56/100\n",
      "900/900 [==============================] - 0s 52us/step - loss: 0.0124 - accuracy: 0.9989 - val_loss: 0.0068 - val_accuracy: 1.0000\n",
      "Epoch 57/100\n",
      "900/900 [==============================] - 0s 62us/step - loss: 0.0123 - accuracy: 0.9989 - val_loss: 0.0067 - val_accuracy: 1.0000\n",
      "Epoch 58/100\n",
      "900/900 [==============================] - 0s 50us/step - loss: 0.0122 - accuracy: 0.9989 - val_loss: 0.0066 - val_accuracy: 1.0000\n",
      "Epoch 59/100\n",
      "900/900 [==============================] - 0s 52us/step - loss: 0.0121 - accuracy: 0.9989 - val_loss: 0.0065 - val_accuracy: 1.0000\n",
      "Epoch 60/100\n",
      "900/900 [==============================] - 0s 57us/step - loss: 0.0120 - accuracy: 0.9989 - val_loss: 0.0064 - val_accuracy: 1.0000\n",
      "Epoch 61/100\n",
      "900/900 [==============================] - 0s 50us/step - loss: 0.0119 - accuracy: 0.9989 - val_loss: 0.0063 - val_accuracy: 1.0000\n",
      "Epoch 62/100\n",
      "900/900 [==============================] - 0s 53us/step - loss: 0.0119 - accuracy: 0.9989 - val_loss: 0.0062 - val_accuracy: 1.0000\n",
      "Epoch 63/100\n",
      "900/900 [==============================] - 0s 47us/step - loss: 0.0118 - accuracy: 0.9989 - val_loss: 0.0061 - val_accuracy: 1.0000\n",
      "Epoch 64/100\n",
      "900/900 [==============================] - 0s 51us/step - loss: 0.0117 - accuracy: 0.9989 - val_loss: 0.0060 - val_accuracy: 1.0000\n",
      "Epoch 65/100\n",
      "900/900 [==============================] - 0s 46us/step - loss: 0.0116 - accuracy: 0.9989 - val_loss: 0.0059 - val_accuracy: 1.0000\n",
      "Epoch 66/100\n",
      "900/900 [==============================] - 0s 54us/step - loss: 0.0116 - accuracy: 0.9989 - val_loss: 0.0058 - val_accuracy: 1.0000\n",
      "Epoch 67/100\n",
      "900/900 [==============================] - 0s 55us/step - loss: 0.0115 - accuracy: 0.9989 - val_loss: 0.0057 - val_accuracy: 1.0000\n",
      "Epoch 68/100\n",
      "900/900 [==============================] - 0s 52us/step - loss: 0.0114 - accuracy: 0.9989 - val_loss: 0.0057 - val_accuracy: 1.0000\n",
      "Epoch 69/100\n",
      "900/900 [==============================] - 0s 48us/step - loss: 0.0114 - accuracy: 0.9989 - val_loss: 0.0056 - val_accuracy: 1.0000\n",
      "Epoch 70/100\n",
      "900/900 [==============================] - 0s 52us/step - loss: 0.0113 - accuracy: 0.9989 - val_loss: 0.0055 - val_accuracy: 1.0000\n",
      "Epoch 71/100\n",
      "900/900 [==============================] - 0s 50us/step - loss: 0.0113 - accuracy: 0.9989 - val_loss: 0.0054 - val_accuracy: 1.0000\n",
      "Epoch 72/100\n",
      "900/900 [==============================] - 0s 60us/step - loss: 0.0112 - accuracy: 0.9989 - val_loss: 0.0054 - val_accuracy: 1.0000\n",
      "Epoch 73/100\n",
      "900/900 [==============================] - 0s 59us/step - loss: 0.0112 - accuracy: 0.9989 - val_loss: 0.0053 - val_accuracy: 1.0000\n",
      "Epoch 74/100\n",
      "900/900 [==============================] - 0s 58us/step - loss: 0.0111 - accuracy: 0.9989 - val_loss: 0.0052 - val_accuracy: 1.0000\n",
      "Epoch 75/100\n",
      "900/900 [==============================] - 0s 51us/step - loss: 0.0111 - accuracy: 0.9989 - val_loss: 0.0052 - val_accuracy: 1.0000\n",
      "Epoch 76/100\n",
      "900/900 [==============================] - 0s 49us/step - loss: 0.0110 - accuracy: 0.9989 - val_loss: 0.0051 - val_accuracy: 1.0000\n",
      "Epoch 77/100\n",
      "900/900 [==============================] - 0s 57us/step - loss: 0.0110 - accuracy: 0.9989 - val_loss: 0.0051 - val_accuracy: 1.0000\n",
      "Epoch 78/100\n",
      "900/900 [==============================] - 0s 52us/step - loss: 0.0109 - accuracy: 0.9989 - val_loss: 0.0050 - val_accuracy: 1.0000\n",
      "Epoch 79/100\n",
      "900/900 [==============================] - 0s 51us/step - loss: 0.0109 - accuracy: 0.9989 - val_loss: 0.0049 - val_accuracy: 1.0000\n",
      "Epoch 80/100\n",
      "900/900 [==============================] - 0s 52us/step - loss: 0.0108 - accuracy: 0.9989 - val_loss: 0.0049 - val_accuracy: 1.0000\n",
      "Epoch 81/100\n",
      "900/900 [==============================] - 0s 54us/step - loss: 0.0108 - accuracy: 0.9989 - val_loss: 0.0048 - val_accuracy: 1.0000\n",
      "Epoch 82/100\n",
      "900/900 [==============================] - 0s 51us/step - loss: 0.0107 - accuracy: 0.9989 - val_loss: 0.0048 - val_accuracy: 1.0000\n",
      "Epoch 83/100\n",
      "900/900 [==============================] - 0s 48us/step - loss: 0.0107 - accuracy: 0.9989 - val_loss: 0.0047 - val_accuracy: 1.0000\n",
      "Epoch 84/100\n",
      "900/900 [==============================] - 0s 51us/step - loss: 0.0107 - accuracy: 0.9989 - val_loss: 0.0047 - val_accuracy: 1.0000\n",
      "Epoch 85/100\n",
      "900/900 [==============================] - 0s 48us/step - loss: 0.0106 - accuracy: 0.9989 - val_loss: 0.0046 - val_accuracy: 1.0000\n",
      "Epoch 86/100\n",
      "900/900 [==============================] - 0s 48us/step - loss: 0.0106 - accuracy: 0.9989 - val_loss: 0.0046 - val_accuracy: 1.0000\n",
      "Epoch 87/100\n",
      "900/900 [==============================] - 0s 48us/step - loss: 0.0106 - accuracy: 0.9989 - val_loss: 0.0045 - val_accuracy: 1.0000\n",
      "Epoch 88/100\n",
      "900/900 [==============================] - 0s 47us/step - loss: 0.0105 - accuracy: 0.9989 - val_loss: 0.0045 - val_accuracy: 1.0000\n",
      "Epoch 89/100\n",
      "900/900 [==============================] - 0s 54us/step - loss: 0.0105 - accuracy: 0.9989 - val_loss: 0.0045 - val_accuracy: 1.0000\n",
      "Epoch 90/100\n",
      "900/900 [==============================] - 0s 49us/step - loss: 0.0105 - accuracy: 0.9989 - val_loss: 0.0044 - val_accuracy: 1.0000\n",
      "Epoch 91/100\n",
      "900/900 [==============================] - 0s 51us/step - loss: 0.0104 - accuracy: 0.9989 - val_loss: 0.0044 - val_accuracy: 1.0000\n",
      "Epoch 92/100\n",
      "900/900 [==============================] - 0s 48us/step - loss: 0.0104 - accuracy: 0.9989 - val_loss: 0.0043 - val_accuracy: 1.0000\n",
      "Epoch 93/100\n",
      "900/900 [==============================] - 0s 50us/step - loss: 0.0104 - accuracy: 0.9989 - val_loss: 0.0043 - val_accuracy: 1.0000\n",
      "Epoch 94/100\n",
      "900/900 [==============================] - 0s 46us/step - loss: 0.0103 - accuracy: 0.9989 - val_loss: 0.0042 - val_accuracy: 1.0000\n",
      "Epoch 95/100\n",
      "900/900 [==============================] - 0s 57us/step - loss: 0.0103 - accuracy: 0.9989 - val_loss: 0.0042 - val_accuracy: 1.0000\n",
      "Epoch 96/100\n",
      "900/900 [==============================] - 0s 49us/step - loss: 0.0103 - accuracy: 0.9989 - val_loss: 0.0042 - val_accuracy: 1.0000\n",
      "Epoch 97/100\n",
      "900/900 [==============================] - 0s 46us/step - loss: 0.0102 - accuracy: 0.9989 - val_loss: 0.0041 - val_accuracy: 1.0000\n",
      "Epoch 98/100\n",
      "900/900 [==============================] - 0s 46us/step - loss: 0.0102 - accuracy: 0.9989 - val_loss: 0.0041 - val_accuracy: 1.0000\n",
      "Epoch 99/100\n",
      "900/900 [==============================] - 0s 51us/step - loss: 0.0102 - accuracy: 0.9989 - val_loss: 0.0041 - val_accuracy: 1.0000\n",
      "Epoch 100/100\n",
      "900/900 [==============================] - 0s 54us/step - loss: 0.0102 - accuracy: 0.9989 - val_loss: 0.0040 - val_accuracy: 1.0000\n"
     ]
    }
   ],
   "source": [
    "hist = model.fit(X_train, y_train,  batch_size=132, epochs=100,    validation_data=(X_val, y_val))"
   ]
  },
  {
   "cell_type": "code",
   "execution_count": 40,
   "metadata": {},
   "outputs": [
    {
     "name": "stdout",
     "output_type": "stream",
     "text": [
      "194/194 [==============================] - 0s 91us/step\n"
     ]
    },
    {
     "data": {
      "text/plain": [
       "[0.032548516969551744, 0.9948453903198242]"
      ]
     },
     "execution_count": 40,
     "metadata": {},
     "output_type": "execute_result"
    }
   ],
   "source": [
    "model.evaluate(X_test, y_test)"
   ]
  },
  {
   "cell_type": "code",
   "execution_count": 41,
   "metadata": {},
   "outputs": [],
   "source": [
    "import matplotlib.pyplot as plt"
   ]
  },
  {
   "cell_type": "code",
   "execution_count": 42,
   "metadata": {},
   "outputs": [
    {
     "data": {
      "image/png": "[encoded data removed]",
      "text/plain": [
       "<Figure size 432x288 with 1 Axes>"
      ]
     },
     "metadata": {
      "needs_background": "light"
     },
     "output_type": "display_data"
    }
   ],
   "source": [
    "plt.plot(hist.history['loss'])\n",
    "plt.plot(hist.history['val_loss'])\n",
    "plt.title('Model loss')\n",
    "plt.ylabel('Loss')\n",
    "plt.xlabel('Epoch')\n",
    "plt.legend(['Train', 'Val'], loc='upper right')\n",
    "plt.show()"
   ]
  },
  {
   "cell_type": "code",
   "execution_count": null,
   "metadata": {},
   "outputs": [],
   "source": []
  }
 ],
 "metadata": {
  "kernelspec": {
   "display_name": "tensorflow_env",
   "language": "python",
   "name": "tensorflow_env"
  },
  "language_info": {
   "codemirror_mode": {
    "name": "ipython",
    "version": 3
   },
   "file_extension": ".py",
   "mimetype": "text/x-python",
   "name": "python",
   "nbconvert_exporter": "python",
   "pygments_lexer": "ipython3",
   "version": "3.8.5"
  }
 },
 "nbformat": 4,
 "nbformat_minor": 4
}
