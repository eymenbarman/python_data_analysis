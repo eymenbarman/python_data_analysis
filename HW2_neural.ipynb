{
  "cells": [
    {
      "cell_type": "code",
      "execution_count": 6,
      "id": "78d78b12-0a1b-4e9d-bee3-8b9f6978f1ea",
      "metadata": {
        "id": "78d78b12-0a1b-4e9d-bee3-8b9f6978f1ea"
      },
      "outputs": [],
      "source": [
        "import numpy as np\n",
        "import pandas as pd\n",
        "import matplotlib.pyplot as plt\n",
        "import logging\n",
        "\n",
        "import tensorflow as tf\n",
        "from tensorflow import keras\n",
        "from tensorflow.keras import layers\n",
        "import os"
      ]
    },
    {
      "cell_type": "code",
      "execution_count": 7,
      "id": "7c7233dd-d3c6-4a03-87b5-b0ad1bee24af",
      "metadata": {
        "id": "7c7233dd-d3c6-4a03-87b5-b0ad1bee24af"
      },
      "outputs": [],
      "source": [
        "zip_path = tf.keras.utils.get_file(\n",
        "origin=\"https://storage.googleapis.com/tensorflow/tf-keras-datasets/jena_climate_2009_2016.csv.zip\",\n",
        "fname=\"jena_climate_2009_2016.csv.zip\",\n",
        "extract=True)\n",
        "csv_path,_ =os.path.splitext(zip_path)\n",
        "\n",
        "df = pd.read_csv(csv_path)\n",
        "df = df[5::6]\n",
        "df = df[[\"p (mbar)\",\"T (degC)\"]]\n",
        "    \n",
        "train_df = df[:int(len(df) * 0.8)]\n",
        "test_df = df[int(len(df) * 0.8):]\n",
        "\n",
        "tr_mean = train_df.mean()\n",
        "tr_std = train_df.std()\n",
        "train_df = (train_df - tr_mean) / tr_std\n",
        "test_df = (test_df - tr_mean) / tr_std\n"
      ]
    },
    {
      "cell_type": "code",
      "execution_count": 8,
      "id": "5f748745-e93e-43a2-9610-fd9bd0110f83",
      "metadata": {
        "id": "5f748745-e93e-43a2-9610-fd9bd0110f83"
      },
      "outputs": [],
      "source": [
        "def make_data(data , lag = 24 , offset = 1 , period = 1, target_col = 1):\n",
        "    \n",
        "    X = []\n",
        "    y = []\n",
        "    for i in range(len(data) - lag - offset):\n",
        "        X.append(data[i:i+lag,:])\n",
        "        y.append(data[i+lag+offset-1,target_col])\n",
        "        \n",
        "    return np.array(X) , np.array(y)"
      ]
    },
    {
      "cell_type": "code",
      "execution_count": 9,
      "id": "a0c9c36a-4ef8-4062-8a0d-8e04de3f69a9",
      "metadata": {
        "id": "a0c9c36a-4ef8-4062-8a0d-8e04de3f69a9"
      },
      "outputs": [],
      "source": [
        "#question 1:\n",
        "lag = 3\n",
        "offset = 1\n",
        "period = 1\n",
        "target_col = 1\n",
        "n_features = df.shape[1]\n",
        "\n",
        "X_train , y_train = make_data(train_df.values , lag = lag , offset = offset , period = period, target_col = target_col)\n",
        "X_test , y_test = make_data(test_df.values , lag = lag , offset = offset , period = period, target_col = target_col)"
      ]
    },
    {
      "cell_type": "code",
      "execution_count": 10,
      "id": "ac1d33b8-055b-4f6d-a760-4cd49db068c5",
      "metadata": {
        "colab": {
          "base_uri": "https://localhost:8080/"
        },
        "id": "ac1d33b8-055b-4f6d-a760-4cd49db068c5",
        "outputId": "8deb1142-d466-431b-aa17-5285797f76b7"
      },
      "outputs": [
        {
          "output_type": "stream",
          "name": "stdout",
          "text": [
            "Epoch 1/5\n",
            "1753/1753 [==============================] - 8s 3ms/step - loss: 0.0285 - mape: 63.6593\n",
            "Epoch 2/5\n",
            "1753/1753 [==============================] - 6s 3ms/step - loss: 0.0095 - mape: 42.9235\n",
            "Epoch 3/5\n",
            "1753/1753 [==============================] - 6s 4ms/step - loss: 0.0094 - mape: 42.2051\n",
            "Epoch 4/5\n",
            "1753/1753 [==============================] - 6s 3ms/step - loss: 0.0093 - mape: 42.7088\n",
            "Epoch 5/5\n",
            "1753/1753 [==============================] - 6s 3ms/step - loss: 0.0093 - mape: 42.7024\n"
          ]
        },
        {
          "output_type": "execute_result",
          "data": {
            "text/plain": [
              "<keras.callbacks.History at 0x7f097d1050d0>"
            ]
          },
          "metadata": {},
          "execution_count": 10
        }
      ],
      "source": [
        "model = tf.keras.models.Sequential()\n",
        "model.add(tf.keras.layers.LSTM(64,input_shape = (lag,n_features)))\n",
        "model.add(layers.Dense(32,activation = \"relu\"))\n",
        "model.add(layers.Dense(period))\n",
        "model.compile(optimizer=\"adam\", loss=\"mse\", metrics=[\"mape\"])\n",
        "model.fit(X_train , y_train, epochs=5)"
      ]
    },
    {
      "cell_type": "code",
      "execution_count": 12,
      "id": "98765964-cf8a-4029-a162-9749d7fe0fec",
      "metadata": {
        "id": "98765964-cf8a-4029-a162-9749d7fe0fec"
      },
      "outputs": [],
      "source": [
        "#question 2:\n",
        "lag = 3\n",
        "offset = 2\n",
        "period = 1\n",
        "target_col = 1\n",
        "n_features = df.shape[1]\n",
        "\n",
        "X_train , y_train = make_data(train_df.values , lag = lag , offset = offset , period = period, target_col = target_col)\n",
        "X_test , y_test = make_data(test_df.values , lag = lag , offset = offset , period = period, target_col = target_col)"
      ]
    },
    {
      "cell_type": "code",
      "execution_count": 13,
      "id": "d3f89870-6243-46c4-9393-1901b45569c7",
      "metadata": {
        "colab": {
          "base_uri": "https://localhost:8080/"
        },
        "id": "d3f89870-6243-46c4-9393-1901b45569c7",
        "outputId": "574e5d26-546c-4b70-824c-b374fa002126"
      },
      "outputs": [
        {
          "output_type": "stream",
          "name": "stdout",
          "text": [
            "Epoch 1/5\n",
            "1753/1753 [==============================] - 12s 5ms/step - loss: 0.0514 - mape: 92.5225\n",
            "Epoch 2/5\n",
            "1753/1753 [==============================] - 7s 4ms/step - loss: 0.0292 - mape: 76.7520\n",
            "Epoch 3/5\n",
            "1753/1753 [==============================] - 8s 5ms/step - loss: 0.0287 - mape: 73.6805\n",
            "Epoch 4/5\n",
            "1753/1753 [==============================] - 9s 5ms/step - loss: 0.0284 - mape: 75.1216\n",
            "Epoch 5/5\n",
            "1753/1753 [==============================] - 6s 4ms/step - loss: 0.0282 - mape: 73.5561\n"
          ]
        },
        {
          "output_type": "execute_result",
          "data": {
            "text/plain": [
              "<keras.callbacks.History at 0x7f097d219a50>"
            ]
          },
          "metadata": {},
          "execution_count": 13
        }
      ],
      "source": [
        "model = tf.keras.models.Sequential()\n",
        "model.add(tf.keras.layers.LSTM(64,input_shape = (lag,n_features)))\n",
        "model.add(layers.Dense(32,activation = \"relu\"))\n",
        "model.add(layers.Dense(period))\n",
        "model.compile(optimizer=\"adam\", loss=\"mse\", metrics=[\"mape\"])\n",
        "model.fit(X_train , y_train, epochs=5)"
      ]
    },
    {
      "cell_type": "code",
      "execution_count": 17,
      "id": "6c52791c-0222-4dc6-b4f8-ab15e8a11369",
      "metadata": {
        "id": "6c52791c-0222-4dc6-b4f8-ab15e8a11369"
      },
      "outputs": [],
      "source": [
        "#question 3:\n",
        "lag = 3\n",
        "offset = 3\n",
        "period = 2\n",
        "target_col = 1\n",
        "n_features = df.shape[1]\n",
        "\n",
        "X_train , y_train = make_data(train_df.values , lag = lag , offset = offset , period = period, target_col = target_col)\n",
        "X_test , y_test = make_data(test_df.values , lag = lag , offset = offset , period = period, target_col = target_col)"
      ]
    },
    {
      "cell_type": "code",
      "execution_count": 18,
      "id": "efca0ce4-a57e-4154-a46f-7b162d14e658",
      "metadata": {
        "colab": {
          "base_uri": "https://localhost:8080/"
        },
        "id": "efca0ce4-a57e-4154-a46f-7b162d14e658",
        "outputId": "32e7a4d7-e573-4638-bcdd-288d87d37a3e"
      },
      "outputs": [
        {
          "output_type": "stream",
          "name": "stdout",
          "text": [
            "Epoch 1/5\n",
            "1753/1753 [==============================] - 10s 4ms/step - loss: 0.0925 - mape: 140.3950\n",
            "Epoch 2/5\n",
            "1753/1753 [==============================] - 10s 6ms/step - loss: 0.0591 - mape: 115.0730\n",
            "Epoch 3/5\n",
            "1753/1753 [==============================] - 7s 4ms/step - loss: 0.0581 - mape: 113.0837\n",
            "Epoch 4/5\n",
            "1753/1753 [==============================] - 6s 4ms/step - loss: 0.0576 - mape: 112.9429\n",
            "Epoch 5/5\n",
            "1753/1753 [==============================] - 6s 4ms/step - loss: 0.0573 - mape: 111.0625\n"
          ]
        },
        {
          "output_type": "execute_result",
          "data": {
            "text/plain": [
              "<keras.callbacks.History at 0x7f0976041090>"
            ]
          },
          "metadata": {},
          "execution_count": 18
        }
      ],
      "source": [
        "model = tf.keras.models.Sequential()\n",
        "model.add(tf.keras.layers.LSTM(64,input_shape = (lag,n_features)))\n",
        "model.add(layers.Dense(32,activation = \"relu\"))\n",
        "model.add(layers.Dense(period))\n",
        "model.compile(optimizer=\"adam\", loss=\"mse\", metrics=[\"mape\"])\n",
        "model.fit(X_train , y_train, epochs=5)"
      ]
    }
  ],
  "metadata": {
    "kernelspec": {
      "display_name": "Python 3 (ipykernel)",
      "language": "python",
      "name": "python3"
    },
    "language_info": {
      "codemirror_mode": {
        "name": "ipython",
        "version": 3
      },
      "file_extension": ".py",
      "mimetype": "text/x-python",
      "name": "python",
      "nbconvert_exporter": "python",
      "pygments_lexer": "ipython3",
      "version": "3.9.7"
    },
    "colab": {
      "name": "HW2.ipynb",
      "provenance": []
    }
  },
  "nbformat": 4,
  "nbformat_minor": 5
}