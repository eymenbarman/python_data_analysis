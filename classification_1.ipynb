{
 "cells": [
  {
   "cell_type": "code",
   "execution_count": 7,
   "metadata": {},
   "outputs": [],
   "source": [
    "import numpy as np\n",
    "import pandas as pd\n",
    "import seaborn as sns"
   ]
  },
  {
   "cell_type": "code",
   "execution_count": 8,
   "metadata": {},
   "outputs": [
    {
     "data": {
      "text/html": [
       "<div>\n",
       "<style scoped>\n",
       "    .dataframe tbody tr th:only-of-type {\n",
       "        vertical-align: middle;\n",
       "    }\n",
       "\n",
       "    .dataframe tbody tr th {\n",
       "        vertical-align: top;\n",
       "    }\n",
       "\n",
       "    .dataframe thead th {\n",
       "        text-align: right;\n",
       "    }\n",
       "</style>\n",
       "<table border=\"1\" class=\"dataframe\">\n",
       "  <thead>\n",
       "    <tr style=\"text-align: right;\">\n",
       "      <th></th>\n",
       "      <th>x1</th>\n",
       "      <th>x2</th>\n",
       "      <th>y</th>\n",
       "    </tr>\n",
       "  </thead>\n",
       "  <tbody>\n",
       "    <tr>\n",
       "      <th>0</th>\n",
       "      <td>0.513095</td>\n",
       "      <td>1.406333</td>\n",
       "      <td>1</td>\n",
       "    </tr>\n",
       "    <tr>\n",
       "      <th>1</th>\n",
       "      <td>-0.441190</td>\n",
       "      <td>-0.385696</td>\n",
       "      <td>0</td>\n",
       "    </tr>\n",
       "    <tr>\n",
       "      <th>2</th>\n",
       "      <td>1.999967</td>\n",
       "      <td>1.761524</td>\n",
       "      <td>1</td>\n",
       "    </tr>\n",
       "    <tr>\n",
       "      <th>3</th>\n",
       "      <td>0.879365</td>\n",
       "      <td>1.327419</td>\n",
       "      <td>1</td>\n",
       "    </tr>\n",
       "    <tr>\n",
       "      <th>4</th>\n",
       "      <td>-0.460654</td>\n",
       "      <td>-1.058990</td>\n",
       "      <td>0</td>\n",
       "    </tr>\n",
       "    <tr>\n",
       "      <th>...</th>\n",
       "      <td>...</td>\n",
       "      <td>...</td>\n",
       "      <td>...</td>\n",
       "    </tr>\n",
       "    <tr>\n",
       "      <th>7995</th>\n",
       "      <td>-0.171718</td>\n",
       "      <td>-0.586216</td>\n",
       "      <td>0</td>\n",
       "    </tr>\n",
       "    <tr>\n",
       "      <th>7996</th>\n",
       "      <td>0.128294</td>\n",
       "      <td>-0.307660</td>\n",
       "      <td>0</td>\n",
       "    </tr>\n",
       "    <tr>\n",
       "      <th>7997</th>\n",
       "      <td>0.194837</td>\n",
       "      <td>-0.019860</td>\n",
       "      <td>0</td>\n",
       "    </tr>\n",
       "    <tr>\n",
       "      <th>7998</th>\n",
       "      <td>-0.687793</td>\n",
       "      <td>-0.890942</td>\n",
       "      <td>0</td>\n",
       "    </tr>\n",
       "    <tr>\n",
       "      <th>7999</th>\n",
       "      <td>0.717515</td>\n",
       "      <td>0.839351</td>\n",
       "      <td>1</td>\n",
       "    </tr>\n",
       "  </tbody>\n",
       "</table>\n",
       "<p>8000 rows × 3 columns</p>\n",
       "</div>"
      ],
      "text/plain": [
       "            x1        x2  y\n",
       "0     0.513095  1.406333  1\n",
       "1    -0.441190 -0.385696  0\n",
       "2     1.999967  1.761524  1\n",
       "3     0.879365  1.327419  1\n",
       "4    -0.460654 -1.058990  0\n",
       "...        ...       ... ..\n",
       "7995 -0.171718 -0.586216  0\n",
       "7996  0.128294 -0.307660  0\n",
       "7997  0.194837 -0.019860  0\n",
       "7998 -0.687793 -0.890942  0\n",
       "7999  0.717515  0.839351  1\n",
       "\n",
       "[8000 rows x 3 columns]"
      ]
     },
     "execution_count": 8,
     "metadata": {},
     "output_type": "execute_result"
    }
   ],
   "source": [
    "data_train=pd.read_csv('HW5traindata.csv')\n",
    "data_train"
   ]
  },
  {
   "cell_type": "code",
   "execution_count": 9,
   "metadata": {},
   "outputs": [],
   "source": [
    "y=data_train['y']\n",
    "x=data_train.drop('y',axis=1)"
   ]
  },
  {
   "cell_type": "code",
   "execution_count": 10,
   "metadata": {},
   "outputs": [
    {
     "data": {
      "text/plain": [
       "0       1\n",
       "1       0\n",
       "2       1\n",
       "3       1\n",
       "4       0\n",
       "       ..\n",
       "7995    0\n",
       "7996    0\n",
       "7997    0\n",
       "7998    0\n",
       "7999    1\n",
       "Name: y, Length: 8000, dtype: int64"
      ]
     },
     "execution_count": 10,
     "metadata": {},
     "output_type": "execute_result"
    }
   ],
   "source": [
    "y"
   ]
  },
  {
   "cell_type": "code",
   "execution_count": 11,
   "metadata": {},
   "outputs": [],
   "source": [
    "def p_y(y):\n",
    "    p_y=[]\n",
    "    for i in np.sort(y.unique()):\n",
    "        pyi=len(y[y==i])/len(y)\n",
    "        p_y.append(pyi)\n",
    "    return p_y"
   ]
  },
  {
   "cell_type": "code",
   "execution_count": 13,
   "metadata": {},
   "outputs": [],
   "source": [
    "class_probs=p_y(y)\n",
    "x1=x['x1']\n",
    "x2=x['x2']\n",
    "k= x.iloc[:,1]\n",
    "mean_1 = x['x1'].mean()\n",
    "mean_2 = x['x2'].mean()"
   ]
  },
  {
   "cell_type": "code",
   "execution_count": 14,
   "metadata": {},
   "outputs": [],
   "source": [
    "def mean_sd_for_each_class(x,y):\n",
    "    means=[]\n",
    "    sds=[]\n",
    "    for i in np.sort(y.unique()):\n",
    "        means_i=x[y==i].mean()\n",
    "        sd_i=x[y==i].std()\n",
    "        means.append(means_i)\n",
    "        sds.append(sd_i)\n",
    "    return means,sds "
   ]
  },
  {
   "cell_type": "code",
   "execution_count": 15,
   "metadata": {},
   "outputs": [
    {
     "data": {
      "text/plain": [
       "[x1    0.703646\n",
       " x2    0.595170\n",
       " dtype: float64,\n",
       " x1    0.745112\n",
       " x2    0.618751\n",
       " dtype: float64]"
      ]
     },
     "execution_count": 15,
     "metadata": {},
     "output_type": "execute_result"
    }
   ],
   "source": [
    "means,sds=mean_sd_for_each_class(x,y)\n",
    "#means[0][0]\n",
    "sds"
   ]
  },
  {
   "cell_type": "code",
   "execution_count": 6,
   "metadata": {},
   "outputs": [
    {
     "ename": "NameError",
     "evalue": "name 'sds' is not defined",
     "output_type": "error",
     "traceback": [
      "\u001b[1;31m---------------------------------------------------------------------------\u001b[0m",
      "\u001b[1;31mNameError\u001b[0m                                 Traceback (most recent call last)",
      "\u001b[1;32m<ipython-input-6-9101a9e1ba17>\u001b[0m in \u001b[0;36m<module>\u001b[1;34m\u001b[0m\n\u001b[1;32m----> 1\u001b[1;33m \u001b[0msds\u001b[0m\u001b[1;33m\u001b[0m\u001b[1;33m\u001b[0m\u001b[0m\n\u001b[0m",
      "\u001b[1;31mNameError\u001b[0m: name 'sds' is not defined"
     ]
    }
   ],
   "source": [
    "sds"
   ]
  },
  {
   "cell_type": "code",
   "execution_count": 2,
   "metadata": {},
   "outputs": [
    {
     "ename": "NameError",
     "evalue": "name 'x' is not defined",
     "output_type": "error",
     "traceback": [
      "\u001b[1;31m---------------------------------------------------------------------------\u001b[0m",
      "\u001b[1;31mNameError\u001b[0m                                 Traceback (most recent call last)",
      "\u001b[1;32m<ipython-input-2-6ffd493e8361>\u001b[0m in \u001b[0;36m<module>\u001b[1;34m\u001b[0m\n\u001b[1;32m----> 1\u001b[1;33m \u001b[0mx1\u001b[0m \u001b[1;33m=\u001b[0m \u001b[0mx\u001b[0m\u001b[1;33m[\u001b[0m\u001b[1;34m'x1'\u001b[0m\u001b[1;33m]\u001b[0m\u001b[1;33m\u001b[0m\u001b[1;33m\u001b[0m\u001b[0m\n\u001b[0m\u001b[0;32m      2\u001b[0m \u001b[0mx2\u001b[0m \u001b[1;33m=\u001b[0m \u001b[0mx\u001b[0m\u001b[1;33m[\u001b[0m\u001b[1;34m'x2'\u001b[0m\u001b[1;33m]\u001b[0m\u001b[1;33m\u001b[0m\u001b[1;33m\u001b[0m\u001b[0m\n\u001b[0;32m      3\u001b[0m \u001b[0mr\u001b[0m \u001b[1;33m=\u001b[0m \u001b[0mnp\u001b[0m\u001b[1;33m.\u001b[0m\u001b[0mcorrcoef\u001b[0m\u001b[1;33m(\u001b[0m\u001b[0mx1\u001b[0m\u001b[1;33m,\u001b[0m \u001b[0mx2\u001b[0m\u001b[1;33m)\u001b[0m\u001b[1;33m\u001b[0m\u001b[1;33m\u001b[0m\u001b[0m\n\u001b[0;32m      4\u001b[0m \u001b[0mp_c\u001b[0m \u001b[1;33m=\u001b[0m \u001b[0mr\u001b[0m\u001b[1;33m[\u001b[0m\u001b[1;36m0\u001b[0m\u001b[1;33m,\u001b[0m\u001b[1;36m1\u001b[0m\u001b[1;33m]\u001b[0m\u001b[1;33m\u001b[0m\u001b[1;33m\u001b[0m\u001b[0m\n\u001b[0;32m      5\u001b[0m \u001b[1;32mdef\u001b[0m \u001b[0mcalculateGaussianProbability\u001b[0m\u001b[1;33m(\u001b[0m\u001b[0mmean_1\u001b[0m\u001b[1;33m,\u001b[0m \u001b[0mmean_2\u001b[0m\u001b[1;33m,\u001b[0m \u001b[0mst_1\u001b[0m\u001b[1;33m,\u001b[0m \u001b[0mst_2\u001b[0m\u001b[1;33m,\u001b[0m \u001b[0mp\u001b[0m\u001b[1;33m)\u001b[0m\u001b[1;33m:\u001b[0m \u001b[1;31m#(µ1k, µ2k, σ1, σ2, ρ),\u001b[0m\u001b[1;33m\u001b[0m\u001b[1;33m\u001b[0m\u001b[0m\n",
      "\u001b[1;31mNameError\u001b[0m: name 'x' is not defined"
     ]
    }
   ],
   "source": [
    "x1 = x['x1']\n",
    "x2 = x['x2']\n",
    "r = np.corrcoef(x1, x2)\n",
    "p_c = r[0,1]\n",
    "def calculateGaussianProbability(mean_1, mean_2, st_1, st_2, p): #(µ1k, µ2k, σ1, σ2, ρ),\n",
    "    expo = np.exp(-(np.power(st_2, 2)*np.power((x1-mean_1), 2))+ np.power(st_2, 2)*np.power((x1-mean_1), 2)- (2*p*st_1*st_2*(x1-mean_1)*(x2-mean_2)) / 2*(1-np.power(p,2))*st_1*st_1*st_2*st_2)\n",
    "    return (1 / (2*np.pi*st_1*st_2*(np.sqrt(1-np.power(p,2)))))"
   ]
  },
  {
   "cell_type": "code",
   "execution_count": 3,
   "metadata": {},
   "outputs": [
    {
     "ename": "NameError",
     "evalue": "name 'pd' is not defined",
     "output_type": "error",
     "traceback": [
      "\u001b[1;31m---------------------------------------------------------------------------\u001b[0m",
      "\u001b[1;31mNameError\u001b[0m                                 Traceback (most recent call last)",
      "\u001b[1;32m<ipython-input-3-2681bebaeb6d>\u001b[0m in \u001b[0;36m<module>\u001b[1;34m\u001b[0m\n\u001b[1;32m----> 1\u001b[1;33m \u001b[0mdata_test\u001b[0m \u001b[1;33m=\u001b[0m \u001b[0mpd\u001b[0m\u001b[1;33m.\u001b[0m\u001b[0mread_csv\u001b[0m\u001b[1;33m(\u001b[0m\u001b[1;34m'HW5testdata.csv'\u001b[0m\u001b[1;33m)\u001b[0m\u001b[1;33m\u001b[0m\u001b[1;33m\u001b[0m\u001b[0m\n\u001b[0m\u001b[0;32m      2\u001b[0m \u001b[0mx_t\u001b[0m\u001b[1;33m=\u001b[0m\u001b[0mdata_test\u001b[0m\u001b[1;33m.\u001b[0m\u001b[0mdrop\u001b[0m\u001b[1;33m(\u001b[0m\u001b[1;34m'y'\u001b[0m\u001b[1;33m,\u001b[0m\u001b[0maxis\u001b[0m\u001b[1;33m=\u001b[0m\u001b[1;36m1\u001b[0m\u001b[1;33m)\u001b[0m\u001b[1;33m\u001b[0m\u001b[1;33m\u001b[0m\u001b[0m\n\u001b[0;32m      3\u001b[0m \u001b[0mx_t_1\u001b[0m \u001b[1;33m=\u001b[0m \u001b[0mx_t\u001b[0m\u001b[1;33m[\u001b[0m\u001b[1;34m'x1'\u001b[0m\u001b[1;33m]\u001b[0m\u001b[1;33m\u001b[0m\u001b[1;33m\u001b[0m\u001b[0m\n\u001b[0;32m      4\u001b[0m \u001b[0mx_t_2\u001b[0m \u001b[1;33m=\u001b[0m \u001b[0mx_t\u001b[0m\u001b[1;33m[\u001b[0m\u001b[1;34m'x2'\u001b[0m\u001b[1;33m]\u001b[0m\u001b[1;33m\u001b[0m\u001b[1;33m\u001b[0m\u001b[0m\n\u001b[0;32m      5\u001b[0m \u001b[0mx_t\u001b[0m\u001b[1;33m\u001b[0m\u001b[1;33m\u001b[0m\u001b[0m\n",
      "\u001b[1;31mNameError\u001b[0m: name 'pd' is not defined"
     ]
    }
   ],
   "source": [
    "data_test = pd.read_csv('HW5testdata.csv')\n",
    "x_t=data_test.drop('y',axis=1)\n",
    "x_t_1 = x_t['x1']\n",
    "x_t_2 = x_t['x2']\n",
    "x_t"
   ]
  },
  {
   "cell_type": "code",
   "execution_count": 40,
   "metadata": {},
   "outputs": [],
   "source": [
    "# Calculate Class Probabilities\n",
    "def calculateClassProbabilities(x,means,sds,class_probs):\n",
    "    probabilities = []\n",
    "    for i in range(len(class_probs)):\n",
    "        numerator=1\n",
    "        for j in range(1):\n",
    "            x1 = x['x1']\n",
    "            x2 = x['x2']\n",
    "            r = np.corrcoef(x1, x2)\n",
    "            p_c = r[0,1]\n",
    "            mean1j=+means[j][0]\n",
    "            mean2j=+means[j][1] \n",
    "            sd_1j=sds[1][0]\n",
    "            sd_2j=sds[1][1]\n",
    "            fxji=calculateGaussianProbability(mean_1=mean1j,mean_2=mean2j, st_1=sd_1j, st_2=sd_2j, p=p_c)\n",
    "            #fxji=calculateGaussianProbability(x=x.iloc[:,j], mean=mean_ij, stdev=sd_ij)\n",
    "            numerator=numerator*fxji\n",
    "        numerator=numerator*class_probs[i]\n",
    "        probabilities.append(numerator)\n",
    "    return (probabilities/np.sum(probabilities,axis=0))\n",
    "\n",
    "#def calculateClassProbabilities(x,means,sds,class_probs):\n",
    " #   probabilities = []\n",
    "  #  numerator=1\n",
    "    #mean1j=means[1][0] + means[0][0]\n",
    "#    mean2j=means[0][1] + means[1][1]\n",
    " #   sd_1j=sds[1][0]\n",
    "  #  sd_2j=sds[1][1]\n",
    "   # x1 = x['x1']\n",
    "#    x2 = x['x2']\n",
    " #   x1 = x1.iloc[:]\n",
    "  #  x2 = x2.iloc[:]\n",
    "   # fxji=calculateGaussianProbability(mean_1=mean1j,mean_2=mean2j, st_1=sd_1j, st_2=sd_2j, p=0.500125)\n",
    "#    numerator=numerator*fxji\n",
    " #   numerator=numerator*class_probs[0]*class_probs[1]\n",
    "  #  probabilities.append(numerator)\n",
    "   # return (probabilities/np.sum(probabilities,axis=0))"
   ]
  },
  {
   "cell_type": "code",
   "execution_count": 41,
   "metadata": {},
   "outputs": [
    {
     "data": {
      "text/plain": [
       "array([0.500125, 0.499875])"
      ]
     },
     "execution_count": 41,
     "metadata": {},
     "output_type": "execute_result"
    }
   ],
   "source": [
    "calculateClassProbabilities(x_t,means,sds,class_probs)"
   ]
  },
  {
   "cell_type": "code",
   "execution_count": 42,
   "metadata": {},
   "outputs": [],
   "source": [
    "def predict(x):\n",
    "    probabilities=calculateClassProbabilities(x_t,means,sds,class_probs)\n",
    "    Class=(probabilities[1]>=0.5).astype('int')\n",
    "    return(Class)"
   ]
  },
  {
   "cell_type": "code",
   "execution_count": 43,
   "metadata": {},
   "outputs": [
    {
     "data": {
      "text/plain": [
       "0"
      ]
     },
     "execution_count": 43,
     "metadata": {},
     "output_type": "execute_result"
    }
   ],
   "source": [
    "prediction=predict(x_t)\n",
    "prediction"
   ]
  },
  {
   "cell_type": "code",
   "execution_count": null,
   "metadata": {},
   "outputs": [],
   "source": []
  },
  {
   "cell_type": "code",
   "execution_count": null,
   "metadata": {},
   "outputs": [],
   "source": []
  }
 ],
 "metadata": {
  "kernelspec": {
   "display_name": "Python 3",
   "language": "python",
   "name": "python3"
  },
  "language_info": {
   "codemirror_mode": {
    "name": "ipython",
    "version": 3
   },
   "file_extension": ".py",
   "mimetype": "text/x-python",
   "name": "python",
   "nbconvert_exporter": "python",
   "pygments_lexer": "ipython3",
   "version": "3.8.5"
  }
 },
 "nbformat": 4,
 "nbformat_minor": 4
}
