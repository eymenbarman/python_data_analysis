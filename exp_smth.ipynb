{
 "cells": [
  {
   "cell_type": "code",
   "execution_count": 2,
   "metadata": {},
   "outputs": [],
   "source": [
    "import numpy as np"
   ]
  },
  {
   "cell_type": "code",
   "execution_count": 13,
   "metadata": {},
   "outputs": [],
   "source": [
    "def exponential_smoothing(x, alpha, l_zero):\n",
    "    extra_periods = 1\n",
    "    x = np.array(x)\n",
    "    cols=len(x)\n",
    "    x = np.append(x,[np.nan]*extra_periods)\n",
    "    f = np.full(cols+extra_periods,np.nan)\n",
    "    f[1] = x[0]\n",
    "    f[1]=x[1]*alpha + (1-alpha)*l_zero\n",
    "    for t in range(2,cols+1):\n",
    "        f[t] = alpha*x[t-1]+(1-alpha)*f[t-1]\n",
    "        f[cols+1:] = f[t]\n",
    "    return f\n",
    "    "
   ]
  },
  {
   "cell_type": "code",
   "execution_count": 14,
   "metadata": {},
   "outputs": [
    {
     "name": "stdout",
     "output_type": "stream",
     "text": [
      "[       nan 1.652      1.4084     1.79288    1.981016   1.9357112\n",
      " 1.72099784 1.23469849 1.26028894 1.05020226 0.63014158]\n"
     ]
    }
   ],
   "source": [
    "x= np.array([2.92,0.84,2.69,2.42,1.83,1.22,0.10,1.32,0.56,-0.35])\n",
    "alpha= 0.3\n",
    "l_zero=2\n",
    "y = exponential_smoothing(x, alpha,l_zero)\n",
    "print(y)\n"
   ]
  },
  {
   "cell_type": "code",
   "execution_count": null,
   "metadata": {},
   "outputs": [],
   "source": []
  }
 ],
 "metadata": {
  "kernelspec": {
   "display_name": "Python 3",
   "language": "python",
   "name": "python3"
  },
  "language_info": {
   "codemirror_mode": {
    "name": "ipython",
    "version": 3
   },
   "file_extension": ".py",
   "mimetype": "text/x-python",
   "name": "python",
   "nbconvert_exporter": "python",
   "pygments_lexer": "ipython3",
   "version": "3.8.5"
  }
 },
 "nbformat": 4,
 "nbformat_minor": 4
}
