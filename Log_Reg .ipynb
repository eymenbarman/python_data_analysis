{
 "cells": [
  {
   "cell_type": "code",
   "execution_count": 30,
   "metadata": {},
   "outputs": [],
   "source": [
    "import pandas as pd\n",
    "import statsmodels.api as sm\n",
    "import statsmodels.formula.api as smf\n",
    "import seaborn as sns\n",
    "from sklearn.preprocessing import scale\n",
    "from sklearn.metrics import confusion_matrix, accuracy_score, classification_report\n",
    "from sklearn.metrics import roc_auc_score, roc_curve\n",
    "import statsmodels.formula.api as smf\n",
    "import matplotlib as plt\n",
    "from sklearn.linear_model import LogisticRegression"
   ]
  },
  {
   "cell_type": "code",
   "execution_count": 31,
   "metadata": {},
   "outputs": [],
   "source": [
    "df= pd.read_excel(\"framingham.xlsx\")"
   ]
  },
  {
   "cell_type": "code",
   "execution_count": 32,
   "metadata": {},
   "outputs": [
    {
     "data": {
      "text/html": [
       "<div>\n",
       "<style scoped>\n",
       "    .dataframe tbody tr th:only-of-type {\n",
       "        vertical-align: middle;\n",
       "    }\n",
       "\n",
       "    .dataframe tbody tr th {\n",
       "        vertical-align: top;\n",
       "    }\n",
       "\n",
       "    .dataframe thead th {\n",
       "        text-align: right;\n",
       "    }\n",
       "</style>\n",
       "<table border=\"1\" class=\"dataframe\">\n",
       "  <thead>\n",
       "    <tr style=\"text-align: right;\">\n",
       "      <th></th>\n",
       "      <th>male</th>\n",
       "      <th>age</th>\n",
       "      <th>education</th>\n",
       "      <th>currentSmoker</th>\n",
       "      <th>cigsPerDay</th>\n",
       "      <th>BPMeds</th>\n",
       "      <th>heartRate</th>\n",
       "      <th>BMI</th>\n",
       "      <th>diaBP</th>\n",
       "      <th>totChol</th>\n",
       "      <th>sysBP</th>\n",
       "    </tr>\n",
       "  </thead>\n",
       "  <tbody>\n",
       "    <tr>\n",
       "      <th>0</th>\n",
       "      <td>1</td>\n",
       "      <td>39</td>\n",
       "      <td>4.0</td>\n",
       "      <td>0</td>\n",
       "      <td>0.0</td>\n",
       "      <td>0.0</td>\n",
       "      <td>80.0</td>\n",
       "      <td>26.97</td>\n",
       "      <td>70.0</td>\n",
       "      <td>195.0</td>\n",
       "      <td>106.0</td>\n",
       "    </tr>\n",
       "    <tr>\n",
       "      <th>1</th>\n",
       "      <td>0</td>\n",
       "      <td>46</td>\n",
       "      <td>2.0</td>\n",
       "      <td>0</td>\n",
       "      <td>0.0</td>\n",
       "      <td>0.0</td>\n",
       "      <td>95.0</td>\n",
       "      <td>28.73</td>\n",
       "      <td>81.0</td>\n",
       "      <td>250.0</td>\n",
       "      <td>121.0</td>\n",
       "    </tr>\n",
       "    <tr>\n",
       "      <th>2</th>\n",
       "      <td>1</td>\n",
       "      <td>48</td>\n",
       "      <td>1.0</td>\n",
       "      <td>1</td>\n",
       "      <td>20.0</td>\n",
       "      <td>0.0</td>\n",
       "      <td>75.0</td>\n",
       "      <td>25.34</td>\n",
       "      <td>80.0</td>\n",
       "      <td>245.0</td>\n",
       "      <td>127.5</td>\n",
       "    </tr>\n",
       "    <tr>\n",
       "      <th>3</th>\n",
       "      <td>0</td>\n",
       "      <td>61</td>\n",
       "      <td>3.0</td>\n",
       "      <td>1</td>\n",
       "      <td>30.0</td>\n",
       "      <td>0.0</td>\n",
       "      <td>65.0</td>\n",
       "      <td>28.58</td>\n",
       "      <td>95.0</td>\n",
       "      <td>225.0</td>\n",
       "      <td>150.0</td>\n",
       "    </tr>\n",
       "    <tr>\n",
       "      <th>4</th>\n",
       "      <td>0</td>\n",
       "      <td>46</td>\n",
       "      <td>3.0</td>\n",
       "      <td>1</td>\n",
       "      <td>23.0</td>\n",
       "      <td>0.0</td>\n",
       "      <td>85.0</td>\n",
       "      <td>23.10</td>\n",
       "      <td>84.0</td>\n",
       "      <td>285.0</td>\n",
       "      <td>130.0</td>\n",
       "    </tr>\n",
       "    <tr>\n",
       "      <th>...</th>\n",
       "      <td>...</td>\n",
       "      <td>...</td>\n",
       "      <td>...</td>\n",
       "      <td>...</td>\n",
       "      <td>...</td>\n",
       "      <td>...</td>\n",
       "      <td>...</td>\n",
       "      <td>...</td>\n",
       "      <td>...</td>\n",
       "      <td>...</td>\n",
       "      <td>...</td>\n",
       "    </tr>\n",
       "    <tr>\n",
       "      <th>4233</th>\n",
       "      <td>1</td>\n",
       "      <td>50</td>\n",
       "      <td>1.0</td>\n",
       "      <td>1</td>\n",
       "      <td>1.0</td>\n",
       "      <td>0.0</td>\n",
       "      <td>66.0</td>\n",
       "      <td>25.97</td>\n",
       "      <td>92.0</td>\n",
       "      <td>313.0</td>\n",
       "      <td>179.0</td>\n",
       "    </tr>\n",
       "    <tr>\n",
       "      <th>4234</th>\n",
       "      <td>1</td>\n",
       "      <td>51</td>\n",
       "      <td>3.0</td>\n",
       "      <td>1</td>\n",
       "      <td>43.0</td>\n",
       "      <td>0.0</td>\n",
       "      <td>65.0</td>\n",
       "      <td>19.71</td>\n",
       "      <td>80.0</td>\n",
       "      <td>207.0</td>\n",
       "      <td>126.5</td>\n",
       "    </tr>\n",
       "    <tr>\n",
       "      <th>4235</th>\n",
       "      <td>0</td>\n",
       "      <td>48</td>\n",
       "      <td>2.0</td>\n",
       "      <td>1</td>\n",
       "      <td>20.0</td>\n",
       "      <td>NaN</td>\n",
       "      <td>84.0</td>\n",
       "      <td>22.00</td>\n",
       "      <td>72.0</td>\n",
       "      <td>248.0</td>\n",
       "      <td>131.0</td>\n",
       "    </tr>\n",
       "    <tr>\n",
       "      <th>4236</th>\n",
       "      <td>0</td>\n",
       "      <td>44</td>\n",
       "      <td>1.0</td>\n",
       "      <td>1</td>\n",
       "      <td>15.0</td>\n",
       "      <td>0.0</td>\n",
       "      <td>86.0</td>\n",
       "      <td>19.16</td>\n",
       "      <td>87.0</td>\n",
       "      <td>210.0</td>\n",
       "      <td>126.5</td>\n",
       "    </tr>\n",
       "    <tr>\n",
       "      <th>4237</th>\n",
       "      <td>0</td>\n",
       "      <td>52</td>\n",
       "      <td>2.0</td>\n",
       "      <td>0</td>\n",
       "      <td>0.0</td>\n",
       "      <td>0.0</td>\n",
       "      <td>80.0</td>\n",
       "      <td>21.47</td>\n",
       "      <td>83.0</td>\n",
       "      <td>269.0</td>\n",
       "      <td>133.5</td>\n",
       "    </tr>\n",
       "  </tbody>\n",
       "</table>\n",
       "<p>4238 rows × 11 columns</p>\n",
       "</div>"
      ],
      "text/plain": [
       "      male  age  education  currentSmoker  cigsPerDay  BPMeds  heartRate  \\\n",
       "0        1   39        4.0              0         0.0     0.0       80.0   \n",
       "1        0   46        2.0              0         0.0     0.0       95.0   \n",
       "2        1   48        1.0              1        20.0     0.0       75.0   \n",
       "3        0   61        3.0              1        30.0     0.0       65.0   \n",
       "4        0   46        3.0              1        23.0     0.0       85.0   \n",
       "...    ...  ...        ...            ...         ...     ...        ...   \n",
       "4233     1   50        1.0              1         1.0     0.0       66.0   \n",
       "4234     1   51        3.0              1        43.0     0.0       65.0   \n",
       "4235     0   48        2.0              1        20.0     NaN       84.0   \n",
       "4236     0   44        1.0              1        15.0     0.0       86.0   \n",
       "4237     0   52        2.0              0         0.0     0.0       80.0   \n",
       "\n",
       "        BMI  diaBP  totChol  sysBP  \n",
       "0     26.97   70.0    195.0  106.0  \n",
       "1     28.73   81.0    250.0  121.0  \n",
       "2     25.34   80.0    245.0  127.5  \n",
       "3     28.58   95.0    225.0  150.0  \n",
       "4     23.10   84.0    285.0  130.0  \n",
       "...     ...    ...      ...    ...  \n",
       "4233  25.97   92.0    313.0  179.0  \n",
       "4234  19.71   80.0    207.0  126.5  \n",
       "4235  22.00   72.0    248.0  131.0  \n",
       "4236  19.16   87.0    210.0  126.5  \n",
       "4237  21.47   83.0    269.0  133.5  \n",
       "\n",
       "[4238 rows x 11 columns]"
      ]
     },
     "execution_count": 32,
     "metadata": {},
     "output_type": "execute_result"
    }
   ],
   "source": [
    "df"
   ]
  },
  {
   "cell_type": "code",
   "execution_count": 33,
   "metadata": {},
   "outputs": [
    {
     "data": {
      "text/plain": [
       "0    2419\n",
       "1    1819\n",
       "Name: male, dtype: int64"
      ]
     },
     "execution_count": 33,
     "metadata": {},
     "output_type": "execute_result"
    }
   ],
   "source": [
    "df[\"male\"].value_counts()"
   ]
  },
  {
   "cell_type": "code",
   "execution_count": 34,
   "metadata": {},
   "outputs": [
    {
     "name": "stdout",
     "output_type": "stream",
     "text": [
      "Optimization terminated successfully.\n",
      "         Current function value: 0.592197\n",
      "         Iterations 6\n"
     ]
    },
    {
     "data": {
      "text/html": [
       "<table class=\"simpletable\">\n",
       "<caption>Logit Regression Results</caption>\n",
       "<tr>\n",
       "  <th>Dep. Variable:</th>         <td>male</td>       <th>  No. Observations:  </th>   <td>  3987</td>  \n",
       "</tr>\n",
       "<tr>\n",
       "  <th>Model:</th>                 <td>Logit</td>      <th>  Df Residuals:      </th>   <td>  3976</td>  \n",
       "</tr>\n",
       "<tr>\n",
       "  <th>Method:</th>                 <td>MLE</td>       <th>  Df Model:          </th>   <td>    10</td>  \n",
       "</tr>\n",
       "<tr>\n",
       "  <th>Date:</th>            <td>Mon, 23 Aug 2021</td> <th>  Pseudo R-squ.:     </th>   <td>0.1344</td>  \n",
       "</tr>\n",
       "<tr>\n",
       "  <th>Time:</th>                <td>17:02:45</td>     <th>  Log-Likelihood:    </th>  <td> -2361.1</td> \n",
       "</tr>\n",
       "<tr>\n",
       "  <th>converged:</th>             <td>True</td>       <th>  LL-Null:           </th>  <td> -2727.8</td> \n",
       "</tr>\n",
       "<tr>\n",
       "  <th>Covariance Type:</th>     <td>nonrobust</td>    <th>  LLR p-value:       </th> <td>4.007e-151</td>\n",
       "</tr>\n",
       "</table>\n",
       "<table class=\"simpletable\">\n",
       "<tr>\n",
       "        <td></td>           <th>coef</th>     <th>std err</th>      <th>z</th>      <th>P>|z|</th>  <th>[0.025</th>    <th>0.975]</th>  \n",
       "</tr>\n",
       "<tr>\n",
       "  <th>const</th>         <td>   -1.1530</td> <td>    0.426</td> <td>   -2.708</td> <td> 0.007</td> <td>   -1.988</td> <td>   -0.318</td>\n",
       "</tr>\n",
       "<tr>\n",
       "  <th>age</th>           <td>    0.0231</td> <td>    0.005</td> <td>    4.803</td> <td> 0.000</td> <td>    0.014</td> <td>    0.033</td>\n",
       "</tr>\n",
       "<tr>\n",
       "  <th>education</th>     <td>    0.0451</td> <td>    0.035</td> <td>    1.281</td> <td> 0.200</td> <td>   -0.024</td> <td>    0.114</td>\n",
       "</tr>\n",
       "<tr>\n",
       "  <th>currentSmoker</th> <td>   -0.5875</td> <td>    0.122</td> <td>   -4.802</td> <td> 0.000</td> <td>   -0.827</td> <td>   -0.348</td>\n",
       "</tr>\n",
       "<tr>\n",
       "  <th>cigsPerDay</th>    <td>    0.0928</td> <td>    0.006</td> <td>   15.838</td> <td> 0.000</td> <td>    0.081</td> <td>    0.104</td>\n",
       "</tr>\n",
       "<tr>\n",
       "  <th>BPMeds</th>        <td>   -0.6584</td> <td>    0.231</td> <td>   -2.845</td> <td> 0.004</td> <td>   -1.112</td> <td>   -0.205</td>\n",
       "</tr>\n",
       "<tr>\n",
       "  <th>heartRate</th>     <td>   -0.0295</td> <td>    0.003</td> <td>   -9.360</td> <td> 0.000</td> <td>   -0.036</td> <td>   -0.023</td>\n",
       "</tr>\n",
       "<tr>\n",
       "  <th>BMI</th>           <td>    0.0584</td> <td>    0.010</td> <td>    6.099</td> <td> 0.000</td> <td>    0.040</td> <td>    0.077</td>\n",
       "</tr>\n",
       "<tr>\n",
       "  <th>diaBP</th>         <td>    0.0424</td> <td>    0.005</td> <td>    8.120</td> <td> 0.000</td> <td>    0.032</td> <td>    0.053</td>\n",
       "</tr>\n",
       "<tr>\n",
       "  <th>totChol</th>       <td>   -0.0042</td> <td>    0.001</td> <td>   -4.873</td> <td> 0.000</td> <td>   -0.006</td> <td>   -0.003</td>\n",
       "</tr>\n",
       "<tr>\n",
       "  <th>sysBP</th>         <td>   -0.0202</td> <td>    0.003</td> <td>   -6.707</td> <td> 0.000</td> <td>   -0.026</td> <td>   -0.014</td>\n",
       "</tr>\n",
       "</table>"
      ],
      "text/plain": [
       "<class 'statsmodels.iolib.summary.Summary'>\n",
       "\"\"\"\n",
       "                           Logit Regression Results                           \n",
       "==============================================================================\n",
       "Dep. Variable:                   male   No. Observations:                 3987\n",
       "Model:                          Logit   Df Residuals:                     3976\n",
       "Method:                           MLE   Df Model:                           10\n",
       "Date:                Mon, 23 Aug 2021   Pseudo R-squ.:                  0.1344\n",
       "Time:                        17:02:45   Log-Likelihood:                -2361.1\n",
       "converged:                       True   LL-Null:                       -2727.8\n",
       "Covariance Type:            nonrobust   LLR p-value:                4.007e-151\n",
       "=================================================================================\n",
       "                    coef    std err          z      P>|z|      [0.025      0.975]\n",
       "---------------------------------------------------------------------------------\n",
       "const            -1.1530      0.426     -2.708      0.007      -1.988      -0.318\n",
       "age               0.0231      0.005      4.803      0.000       0.014       0.033\n",
       "education         0.0451      0.035      1.281      0.200      -0.024       0.114\n",
       "currentSmoker    -0.5875      0.122     -4.802      0.000      -0.827      -0.348\n",
       "cigsPerDay        0.0928      0.006     15.838      0.000       0.081       0.104\n",
       "BPMeds           -0.6584      0.231     -2.845      0.004      -1.112      -0.205\n",
       "heartRate        -0.0295      0.003     -9.360      0.000      -0.036      -0.023\n",
       "BMI               0.0584      0.010      6.099      0.000       0.040       0.077\n",
       "diaBP             0.0424      0.005      8.120      0.000       0.032       0.053\n",
       "totChol          -0.0042      0.001     -4.873      0.000      -0.006      -0.003\n",
       "sysBP            -0.0202      0.003     -6.707      0.000      -0.026      -0.014\n",
       "=================================================================================\n",
       "\"\"\""
      ]
     },
     "execution_count": 34,
     "metadata": {},
     "output_type": "execute_result"
    }
   ],
   "source": [
    "df = df.dropna()\n",
    "y=df[\"male\"]\n",
    "X=df[[\"age\",\"education\",\"currentSmoker\",\"cigsPerDay\",\"BPMeds\",\"heartRate\",\"BMI\",\"diaBP\",\"totChol\",\"sysBP\"]]\n",
    "X=sm.add_constant(X)\n",
    "logit=sm.Logit(y,X).fit()\n",
    "logit.summary()\n",
    "#As a result of logit regression result our equations can be shown as :\n",
    "# ln(P(Y=1) / P(y=0)) = -1.1530 + 0.0231[age] - -0.5875[currentSmoker] ... -0.0202[sysBP]\n",
    "# In this equation education variable is not written because it is insignificant for this model.\n",
    "#Negative coefficient means probability of being male is decresing by these kind of parameters."
   ]
  },
  {
   "cell_type": "code",
   "execution_count": 35,
   "metadata": {},
   "outputs": [
    {
     "data": {
      "text/plain": [
       "array([[1889.,  371.],\n",
       "       [ 856.,  871.]])"
      ]
     },
     "execution_count": 35,
     "metadata": {},
     "output_type": "execute_result"
    }
   ],
   "source": [
    "logit.pred_table()"
   ]
  },
  {
   "cell_type": "code",
   "execution_count": 36,
   "metadata": {},
   "outputs": [],
   "source": [
    "y_pred = logit.predict(X)"
   ]
  },
  {
   "cell_type": "code",
   "execution_count": 37,
   "metadata": {},
   "outputs": [
    {
     "data": {
      "text/plain": [
       "0       0.299948\n",
       "1       0.234489\n",
       "2       0.580751\n",
       "3       0.916381\n",
       "4       0.543309\n",
       "          ...   \n",
       "4232    0.506337\n",
       "4233    0.129518\n",
       "4234    0.940773\n",
       "4236    0.388701\n",
       "4237    0.218677\n",
       "Length: 3987, dtype: float64"
      ]
     },
     "execution_count": 37,
     "metadata": {},
     "output_type": "execute_result"
    }
   ],
   "source": [
    "y_pred\n",
    "#Probablity of Being male for first student is %29.9. Probablity of Being female of second person is %76.6"
   ]
  },
  {
   "cell_type": "code",
   "execution_count": 38,
   "metadata": {},
   "outputs": [],
   "source": [
    "y_pred = (logit.predict(X) >= 0.5).astype(int)"
   ]
  },
  {
   "cell_type": "code",
   "execution_count": 39,
   "metadata": {},
   "outputs": [
    {
     "data": {
      "text/plain": [
       "0       0\n",
       "1       0\n",
       "2       1\n",
       "3       1\n",
       "4       1\n",
       "       ..\n",
       "4232    1\n",
       "4233    0\n",
       "4234    1\n",
       "4236    0\n",
       "4237    0\n",
       "Length: 3987, dtype: int32"
      ]
     },
     "execution_count": 39,
     "metadata": {},
     "output_type": "execute_result"
    }
   ],
   "source": [
    "y_pred"
   ]
  },
  {
   "cell_type": "code",
   "execution_count": 40,
   "metadata": {},
   "outputs": [
    {
     "data": {
      "text/plain": [
       "array([[1889,  371],\n",
       "       [ 856,  871]], dtype=int64)"
      ]
     },
     "execution_count": 40,
     "metadata": {},
     "output_type": "execute_result"
    }
   ],
   "source": [
    "confusion_matrix(y, y_pred)"
   ]
  },
  {
   "cell_type": "code",
   "execution_count": 41,
   "metadata": {},
   "outputs": [
    {
     "data": {
      "text/plain": [
       "0.6922498118886381"
      ]
     },
     "execution_count": 41,
     "metadata": {},
     "output_type": "execute_result"
    }
   ],
   "source": [
    "accuracy_score(y, y_pred)"
   ]
  },
  {
   "cell_type": "code",
   "execution_count": 42,
   "metadata": {},
   "outputs": [
    {
     "name": "stdout",
     "output_type": "stream",
     "text": [
      "              precision    recall  f1-score   support\n",
      "\n",
      "           0       0.69      0.84      0.75      2260\n",
      "           1       0.70      0.50      0.59      1727\n",
      "\n",
      "    accuracy                           0.69      3987\n",
      "   macro avg       0.69      0.67      0.67      3987\n",
      "weighted avg       0.69      0.69      0.68      3987\n",
      "\n"
     ]
    }
   ],
   "source": [
    "logit = LogisticRegression( solver = \"liblinear\")\n",
    "print(classification_report(y, y_pred))"
   ]
  },
  {
   "cell_type": "code",
   "execution_count": null,
   "metadata": {},
   "outputs": [],
   "source": []
  },
  {
   "cell_type": "code",
   "execution_count": null,
   "metadata": {},
   "outputs": [],
   "source": []
  }
 ],
 "metadata": {
  "kernelspec": {
   "display_name": "Python 3",
   "language": "python",
   "name": "python3"
  },
  "language_info": {
   "codemirror_mode": {
    "name": "ipython",
    "version": 3
   },
   "file_extension": ".py",
   "mimetype": "text/x-python",
   "name": "python",
   "nbconvert_exporter": "python",
   "pygments_lexer": "ipython3",
   "version": "3.8.5"
  }
 },
 "nbformat": 4,
 "nbformat_minor": 4
}
